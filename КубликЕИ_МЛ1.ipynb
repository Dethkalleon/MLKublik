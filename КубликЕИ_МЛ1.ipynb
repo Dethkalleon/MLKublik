{
  "nbformat": 4,
  "nbformat_minor": 0,
  "metadata": {
    "colab": {
      "provenance": [],
      "include_colab_link": true
    },
    "kernelspec": {
      "name": "python3",
      "display_name": "Python 3"
    },
    "language_info": {
      "name": "python"
    }
  },
  "cells": [
    {
      "cell_type": "markdown",
      "metadata": {
        "id": "view-in-github",
        "colab_type": "text"
      },
      "source": [
        "<a href=\"https://colab.research.google.com/github/Dethkalleon/MLKublik/blob/main/%D0%9A%D1%83%D0%B1%D0%BB%D0%B8%D0%BA%D0%95%D0%98_%D0%9C%D0%9B1.ipynb\" target=\"_parent\"><img src=\"https://colab.research.google.com/assets/colab-badge.svg\" alt=\"Open In Colab\"/></a>"
      ]
    },
    {
      "cell_type": "markdown",
      "source": [
        "# ЛР 1.1 - Линейная регрессия"
      ],
      "metadata": {
        "id": "YQ-cY8-jODtg"
      }
    },
    {
      "cell_type": "markdown",
      "source": [
        "### Цель работы\n",
        "\n",
        "Познакомиться с основными понятиями задачи регрессии и метода градиентного спуска.\n",
        "\n",
        "### Содержание работы\n",
        "\n",
        "1. Загрузить данные из тектовых файлов.\n",
        "2. Создать и построить модель парной линейной регрессии с использованием метода градиентного спуска.\n",
        "3. Оценить на графике качество построенной модели.\n",
        "4. Построить кривые обучения."
      ],
      "metadata": {
        "id": "35NJYZfvOsNz"
      }
    },
    {
      "cell_type": "markdown",
      "source": [
        "### Выполнение"
      ],
      "metadata": {
        "id": "_CsnjmvKZzJ8"
      }
    },
    {
      "cell_type": "markdown",
      "source": [
        "Импортируем необходимые библиотеки"
      ],
      "metadata": {
        "id": "V7sQ4KsaOvow"
      }
    },
    {
      "cell_type": "code",
      "execution_count": null,
      "metadata": {
        "id": "4bGmIu6qN9J_"
      },
      "outputs": [],
      "source": [
        "import numpy as np\n",
        "import pandas as pd\n",
        "import matplotlib.pyplot as plt"
      ]
    },
    {
      "cell_type": "markdown",
      "source": [
        "Считаем предоставленные датасеты и посмотрим что там лежит"
      ],
      "metadata": {
        "id": "y6c8Wou_O4W9"
      }
    },
    {
      "cell_type": "code",
      "source": [
        "x = pd.read_csv('https://raw.githubusercontent.com/koroteevmv/ML_course/2023/ML1.1%20linear%20regression/data/x.csv')\n",
        "y = pd.read_csv('https://raw.githubusercontent.com/koroteevmv/ML_course/2023/ML1.1%20linear%20regression/data/y.csv')\n",
        "x.head()"
      ],
      "metadata": {
        "colab": {
          "base_uri": "https://localhost:8080/",
          "height": 206
        },
        "id": "pSTu7ktiO4IR",
        "outputId": "263360cc-7d7b-44b1-e3ed-a9dca04622d6"
      },
      "execution_count": null,
      "outputs": [
        {
          "output_type": "execute_result",
          "data": {
            "text/plain": [
              "   Unnamed: 0         0\n",
              "0           0  1.462108\n",
              "1           1  1.133769\n",
              "2           2 -2.301539\n",
              "3           3  1.744812\n",
              "4           4  0.042214"
            ],
            "text/html": [
              "\n",
              "  <div id=\"df-338f6e93-7f18-40ff-8614-7218d52394b8\" class=\"colab-df-container\">\n",
              "    <div>\n",
              "<style scoped>\n",
              "    .dataframe tbody tr th:only-of-type {\n",
              "        vertical-align: middle;\n",
              "    }\n",
              "\n",
              "    .dataframe tbody tr th {\n",
              "        vertical-align: top;\n",
              "    }\n",
              "\n",
              "    .dataframe thead th {\n",
              "        text-align: right;\n",
              "    }\n",
              "</style>\n",
              "<table border=\"1\" class=\"dataframe\">\n",
              "  <thead>\n",
              "    <tr style=\"text-align: right;\">\n",
              "      <th></th>\n",
              "      <th>Unnamed: 0</th>\n",
              "      <th>0</th>\n",
              "    </tr>\n",
              "  </thead>\n",
              "  <tbody>\n",
              "    <tr>\n",
              "      <th>0</th>\n",
              "      <td>0</td>\n",
              "      <td>1.462108</td>\n",
              "    </tr>\n",
              "    <tr>\n",
              "      <th>1</th>\n",
              "      <td>1</td>\n",
              "      <td>1.133769</td>\n",
              "    </tr>\n",
              "    <tr>\n",
              "      <th>2</th>\n",
              "      <td>2</td>\n",
              "      <td>-2.301539</td>\n",
              "    </tr>\n",
              "    <tr>\n",
              "      <th>3</th>\n",
              "      <td>3</td>\n",
              "      <td>1.744812</td>\n",
              "    </tr>\n",
              "    <tr>\n",
              "      <th>4</th>\n",
              "      <td>4</td>\n",
              "      <td>0.042214</td>\n",
              "    </tr>\n",
              "  </tbody>\n",
              "</table>\n",
              "</div>\n",
              "    <div class=\"colab-df-buttons\">\n",
              "\n",
              "  <div class=\"colab-df-container\">\n",
              "    <button class=\"colab-df-convert\" onclick=\"convertToInteractive('df-338f6e93-7f18-40ff-8614-7218d52394b8')\"\n",
              "            title=\"Convert this dataframe to an interactive table.\"\n",
              "            style=\"display:none;\">\n",
              "\n",
              "  <svg xmlns=\"http://www.w3.org/2000/svg\" height=\"24px\" viewBox=\"0 -960 960 960\">\n",
              "    <path d=\"M120-120v-720h720v720H120Zm60-500h600v-160H180v160Zm220 220h160v-160H400v160Zm0 220h160v-160H400v160ZM180-400h160v-160H180v160Zm440 0h160v-160H620v160ZM180-180h160v-160H180v160Zm440 0h160v-160H620v160Z\"/>\n",
              "  </svg>\n",
              "    </button>\n",
              "\n",
              "  <style>\n",
              "    .colab-df-container {\n",
              "      display:flex;\n",
              "      gap: 12px;\n",
              "    }\n",
              "\n",
              "    .colab-df-convert {\n",
              "      background-color: #E8F0FE;\n",
              "      border: none;\n",
              "      border-radius: 50%;\n",
              "      cursor: pointer;\n",
              "      display: none;\n",
              "      fill: #1967D2;\n",
              "      height: 32px;\n",
              "      padding: 0 0 0 0;\n",
              "      width: 32px;\n",
              "    }\n",
              "\n",
              "    .colab-df-convert:hover {\n",
              "      background-color: #E2EBFA;\n",
              "      box-shadow: 0px 1px 2px rgba(60, 64, 67, 0.3), 0px 1px 3px 1px rgba(60, 64, 67, 0.15);\n",
              "      fill: #174EA6;\n",
              "    }\n",
              "\n",
              "    .colab-df-buttons div {\n",
              "      margin-bottom: 4px;\n",
              "    }\n",
              "\n",
              "    [theme=dark] .colab-df-convert {\n",
              "      background-color: #3B4455;\n",
              "      fill: #D2E3FC;\n",
              "    }\n",
              "\n",
              "    [theme=dark] .colab-df-convert:hover {\n",
              "      background-color: #434B5C;\n",
              "      box-shadow: 0px 1px 3px 1px rgba(0, 0, 0, 0.15);\n",
              "      filter: drop-shadow(0px 1px 2px rgba(0, 0, 0, 0.3));\n",
              "      fill: #FFFFFF;\n",
              "    }\n",
              "  </style>\n",
              "\n",
              "    <script>\n",
              "      const buttonEl =\n",
              "        document.querySelector('#df-338f6e93-7f18-40ff-8614-7218d52394b8 button.colab-df-convert');\n",
              "      buttonEl.style.display =\n",
              "        google.colab.kernel.accessAllowed ? 'block' : 'none';\n",
              "\n",
              "      async function convertToInteractive(key) {\n",
              "        const element = document.querySelector('#df-338f6e93-7f18-40ff-8614-7218d52394b8');\n",
              "        const dataTable =\n",
              "          await google.colab.kernel.invokeFunction('convertToInteractive',\n",
              "                                                    [key], {});\n",
              "        if (!dataTable) return;\n",
              "\n",
              "        const docLinkHtml = 'Like what you see? Visit the ' +\n",
              "          '<a target=\"_blank\" href=https://colab.research.google.com/notebooks/data_table.ipynb>data table notebook</a>'\n",
              "          + ' to learn more about interactive tables.';\n",
              "        element.innerHTML = '';\n",
              "        dataTable['output_type'] = 'display_data';\n",
              "        await google.colab.output.renderOutput(dataTable, element);\n",
              "        const docLink = document.createElement('div');\n",
              "        docLink.innerHTML = docLinkHtml;\n",
              "        element.appendChild(docLink);\n",
              "      }\n",
              "    </script>\n",
              "  </div>\n",
              "\n",
              "\n",
              "<div id=\"df-706deac3-362d-406c-b771-f75dfe14270b\">\n",
              "  <button class=\"colab-df-quickchart\" onclick=\"quickchart('df-706deac3-362d-406c-b771-f75dfe14270b')\"\n",
              "            title=\"Suggest charts\"\n",
              "            style=\"display:none;\">\n",
              "\n",
              "<svg xmlns=\"http://www.w3.org/2000/svg\" height=\"24px\"viewBox=\"0 0 24 24\"\n",
              "     width=\"24px\">\n",
              "    <g>\n",
              "        <path d=\"M19 3H5c-1.1 0-2 .9-2 2v14c0 1.1.9 2 2 2h14c1.1 0 2-.9 2-2V5c0-1.1-.9-2-2-2zM9 17H7v-7h2v7zm4 0h-2V7h2v10zm4 0h-2v-4h2v4z\"/>\n",
              "    </g>\n",
              "</svg>\n",
              "  </button>\n",
              "\n",
              "<style>\n",
              "  .colab-df-quickchart {\n",
              "      --bg-color: #E8F0FE;\n",
              "      --fill-color: #1967D2;\n",
              "      --hover-bg-color: #E2EBFA;\n",
              "      --hover-fill-color: #174EA6;\n",
              "      --disabled-fill-color: #AAA;\n",
              "      --disabled-bg-color: #DDD;\n",
              "  }\n",
              "\n",
              "  [theme=dark] .colab-df-quickchart {\n",
              "      --bg-color: #3B4455;\n",
              "      --fill-color: #D2E3FC;\n",
              "      --hover-bg-color: #434B5C;\n",
              "      --hover-fill-color: #FFFFFF;\n",
              "      --disabled-bg-color: #3B4455;\n",
              "      --disabled-fill-color: #666;\n",
              "  }\n",
              "\n",
              "  .colab-df-quickchart {\n",
              "    background-color: var(--bg-color);\n",
              "    border: none;\n",
              "    border-radius: 50%;\n",
              "    cursor: pointer;\n",
              "    display: none;\n",
              "    fill: var(--fill-color);\n",
              "    height: 32px;\n",
              "    padding: 0;\n",
              "    width: 32px;\n",
              "  }\n",
              "\n",
              "  .colab-df-quickchart:hover {\n",
              "    background-color: var(--hover-bg-color);\n",
              "    box-shadow: 0 1px 2px rgba(60, 64, 67, 0.3), 0 1px 3px 1px rgba(60, 64, 67, 0.15);\n",
              "    fill: var(--button-hover-fill-color);\n",
              "  }\n",
              "\n",
              "  .colab-df-quickchart-complete:disabled,\n",
              "  .colab-df-quickchart-complete:disabled:hover {\n",
              "    background-color: var(--disabled-bg-color);\n",
              "    fill: var(--disabled-fill-color);\n",
              "    box-shadow: none;\n",
              "  }\n",
              "\n",
              "  .colab-df-spinner {\n",
              "    border: 2px solid var(--fill-color);\n",
              "    border-color: transparent;\n",
              "    border-bottom-color: var(--fill-color);\n",
              "    animation:\n",
              "      spin 1s steps(1) infinite;\n",
              "  }\n",
              "\n",
              "  @keyframes spin {\n",
              "    0% {\n",
              "      border-color: transparent;\n",
              "      border-bottom-color: var(--fill-color);\n",
              "      border-left-color: var(--fill-color);\n",
              "    }\n",
              "    20% {\n",
              "      border-color: transparent;\n",
              "      border-left-color: var(--fill-color);\n",
              "      border-top-color: var(--fill-color);\n",
              "    }\n",
              "    30% {\n",
              "      border-color: transparent;\n",
              "      border-left-color: var(--fill-color);\n",
              "      border-top-color: var(--fill-color);\n",
              "      border-right-color: var(--fill-color);\n",
              "    }\n",
              "    40% {\n",
              "      border-color: transparent;\n",
              "      border-right-color: var(--fill-color);\n",
              "      border-top-color: var(--fill-color);\n",
              "    }\n",
              "    60% {\n",
              "      border-color: transparent;\n",
              "      border-right-color: var(--fill-color);\n",
              "    }\n",
              "    80% {\n",
              "      border-color: transparent;\n",
              "      border-right-color: var(--fill-color);\n",
              "      border-bottom-color: var(--fill-color);\n",
              "    }\n",
              "    90% {\n",
              "      border-color: transparent;\n",
              "      border-bottom-color: var(--fill-color);\n",
              "    }\n",
              "  }\n",
              "</style>\n",
              "\n",
              "  <script>\n",
              "    async function quickchart(key) {\n",
              "      const quickchartButtonEl =\n",
              "        document.querySelector('#' + key + ' button');\n",
              "      quickchartButtonEl.disabled = true;  // To prevent multiple clicks.\n",
              "      quickchartButtonEl.classList.add('colab-df-spinner');\n",
              "      try {\n",
              "        const charts = await google.colab.kernel.invokeFunction(\n",
              "            'suggestCharts', [key], {});\n",
              "      } catch (error) {\n",
              "        console.error('Error during call to suggestCharts:', error);\n",
              "      }\n",
              "      quickchartButtonEl.classList.remove('colab-df-spinner');\n",
              "      quickchartButtonEl.classList.add('colab-df-quickchart-complete');\n",
              "    }\n",
              "    (() => {\n",
              "      let quickchartButtonEl =\n",
              "        document.querySelector('#df-706deac3-362d-406c-b771-f75dfe14270b button');\n",
              "      quickchartButtonEl.style.display =\n",
              "        google.colab.kernel.accessAllowed ? 'block' : 'none';\n",
              "    })();\n",
              "  </script>\n",
              "</div>\n",
              "    </div>\n",
              "  </div>\n"
            ],
            "application/vnd.google.colaboratory.intrinsic+json": {
              "type": "dataframe",
              "variable_name": "x",
              "summary": "{\n  \"name\": \"x\",\n  \"rows\": 20,\n  \"fields\": [\n    {\n      \"column\": \"Unnamed: 0\",\n      \"properties\": {\n        \"dtype\": \"number\",\n        \"std\": 5,\n        \"min\": 0,\n        \"max\": 19,\n        \"num_unique_values\": 20,\n        \"samples\": [\n          0,\n          17,\n          15\n        ],\n        \"semantic_type\": \"\",\n        \"description\": \"\"\n      }\n    },\n    {\n      \"column\": \"0\",\n      \"properties\": {\n        \"dtype\": \"number\",\n        \"std\": 1.1283765932705023,\n        \"min\": -2.3015386968802827,\n        \"max\": 1.74481176421648,\n        \"num_unique_values\": 20,\n        \"samples\": [\n          1.462107937044974,\n          -0.3224172040135075,\n          -0.3840543546684156\n        ],\n        \"semantic_type\": \"\",\n        \"description\": \"\"\n      }\n    }\n  ]\n}"
            }
          },
          "metadata": {},
          "execution_count": 3
        }
      ]
    },
    {
      "cell_type": "code",
      "source": [
        "type(x)"
      ],
      "metadata": {
        "colab": {
          "base_uri": "https://localhost:8080/",
          "height": 203
        },
        "id": "E7shYK7wPaMF",
        "outputId": "3f5c335b-c169-4cac-9e9c-41287c503376"
      },
      "execution_count": null,
      "outputs": [
        {
          "output_type": "execute_result",
          "data": {
            "text/plain": [
              "pandas.core.frame.DataFrame"
            ],
            "text/html": [
              "<div style=\"max-width:800px; border: 1px solid var(--colab-border-color);\"><style>\n",
              "      pre.function-repr-contents {\n",
              "        overflow-x: auto;\n",
              "        padding: 8px 12px;\n",
              "        max-height: 500px;\n",
              "      }\n",
              "\n",
              "      pre.function-repr-contents.function-repr-contents-collapsed {\n",
              "        cursor: pointer;\n",
              "        max-height: 100px;\n",
              "      }\n",
              "    </style>\n",
              "    <pre style=\"white-space: initial; background:\n",
              "         var(--colab-secondary-surface-color); padding: 8px 12px;\n",
              "         border-bottom: 1px solid var(--colab-border-color);\"><b>pandas.core.frame.DataFrame</b><br/>def __init__(data=None, index: Axes | None=None, columns: Axes | None=None, dtype: Dtype | None=None, copy: bool | None=None) -&gt; None</pre><pre class=\"function-repr-contents function-repr-contents-collapsed\" style=\"\"><a class=\"filepath\" style=\"display:none\" href=\"#\">/usr/local/lib/python3.11/dist-packages/pandas/core/frame.py</a>Two-dimensional, size-mutable, potentially heterogeneous tabular data.\n",
              "\n",
              "Data structure also contains labeled axes (rows and columns).\n",
              "Arithmetic operations align on both row and column labels. Can be\n",
              "thought of as a dict-like container for Series objects. The primary\n",
              "pandas data structure.\n",
              "\n",
              "Parameters\n",
              "----------\n",
              "data : ndarray (structured or homogeneous), Iterable, dict, or DataFrame\n",
              "    Dict can contain Series, arrays, constants, dataclass or list-like objects. If\n",
              "    data is a dict, column order follows insertion-order. If a dict contains Series\n",
              "    which have an index defined, it is aligned by its index. This alignment also\n",
              "    occurs if data is a Series or a DataFrame itself. Alignment is done on\n",
              "    Series/DataFrame inputs.\n",
              "\n",
              "    If data is a list of dicts, column order follows insertion-order.\n",
              "\n",
              "index : Index or array-like\n",
              "    Index to use for resulting frame. Will default to RangeIndex if\n",
              "    no indexing information part of input data and no index provided.\n",
              "columns : Index or array-like\n",
              "    Column labels to use for resulting frame when data does not have them,\n",
              "    defaulting to RangeIndex(0, 1, 2, ..., n). If data contains column labels,\n",
              "    will perform column selection instead.\n",
              "dtype : dtype, default None\n",
              "    Data type to force. Only a single dtype is allowed. If None, infer.\n",
              "copy : bool or None, default None\n",
              "    Copy data from inputs.\n",
              "    For dict data, the default of None behaves like ``copy=True``.  For DataFrame\n",
              "    or 2d ndarray input, the default of None behaves like ``copy=False``.\n",
              "    If data is a dict containing one or more Series (possibly of different dtypes),\n",
              "    ``copy=False`` will ensure that these inputs are not copied.\n",
              "\n",
              "    .. versionchanged:: 1.3.0\n",
              "\n",
              "See Also\n",
              "--------\n",
              "DataFrame.from_records : Constructor from tuples, also record arrays.\n",
              "DataFrame.from_dict : From dicts of Series, arrays, or dicts.\n",
              "read_csv : Read a comma-separated values (csv) file into DataFrame.\n",
              "read_table : Read general delimited file into DataFrame.\n",
              "read_clipboard : Read text from clipboard into DataFrame.\n",
              "\n",
              "Notes\n",
              "-----\n",
              "Please reference the :ref:`User Guide &lt;basics.dataframe&gt;` for more information.\n",
              "\n",
              "Examples\n",
              "--------\n",
              "Constructing DataFrame from a dictionary.\n",
              "\n",
              "&gt;&gt;&gt; d = {&#x27;col1&#x27;: [1, 2], &#x27;col2&#x27;: [3, 4]}\n",
              "&gt;&gt;&gt; df = pd.DataFrame(data=d)\n",
              "&gt;&gt;&gt; df\n",
              "   col1  col2\n",
              "0     1     3\n",
              "1     2     4\n",
              "\n",
              "Notice that the inferred dtype is int64.\n",
              "\n",
              "&gt;&gt;&gt; df.dtypes\n",
              "col1    int64\n",
              "col2    int64\n",
              "dtype: object\n",
              "\n",
              "To enforce a single dtype:\n",
              "\n",
              "&gt;&gt;&gt; df = pd.DataFrame(data=d, dtype=np.int8)\n",
              "&gt;&gt;&gt; df.dtypes\n",
              "col1    int8\n",
              "col2    int8\n",
              "dtype: object\n",
              "\n",
              "Constructing DataFrame from a dictionary including Series:\n",
              "\n",
              "&gt;&gt;&gt; d = {&#x27;col1&#x27;: [0, 1, 2, 3], &#x27;col2&#x27;: pd.Series([2, 3], index=[2, 3])}\n",
              "&gt;&gt;&gt; pd.DataFrame(data=d, index=[0, 1, 2, 3])\n",
              "   col1  col2\n",
              "0     0   NaN\n",
              "1     1   NaN\n",
              "2     2   2.0\n",
              "3     3   3.0\n",
              "\n",
              "Constructing DataFrame from numpy ndarray:\n",
              "\n",
              "&gt;&gt;&gt; df2 = pd.DataFrame(np.array([[1, 2, 3], [4, 5, 6], [7, 8, 9]]),\n",
              "...                    columns=[&#x27;a&#x27;, &#x27;b&#x27;, &#x27;c&#x27;])\n",
              "&gt;&gt;&gt; df2\n",
              "   a  b  c\n",
              "0  1  2  3\n",
              "1  4  5  6\n",
              "2  7  8  9\n",
              "\n",
              "Constructing DataFrame from a numpy ndarray that has labeled columns:\n",
              "\n",
              "&gt;&gt;&gt; data = np.array([(1, 2, 3), (4, 5, 6), (7, 8, 9)],\n",
              "...                 dtype=[(&quot;a&quot;, &quot;i4&quot;), (&quot;b&quot;, &quot;i4&quot;), (&quot;c&quot;, &quot;i4&quot;)])\n",
              "&gt;&gt;&gt; df3 = pd.DataFrame(data, columns=[&#x27;c&#x27;, &#x27;a&#x27;])\n",
              "...\n",
              "&gt;&gt;&gt; df3\n",
              "   c  a\n",
              "0  3  1\n",
              "1  6  4\n",
              "2  9  7\n",
              "\n",
              "Constructing DataFrame from dataclass:\n",
              "\n",
              "&gt;&gt;&gt; from dataclasses import make_dataclass\n",
              "&gt;&gt;&gt; Point = make_dataclass(&quot;Point&quot;, [(&quot;x&quot;, int), (&quot;y&quot;, int)])\n",
              "&gt;&gt;&gt; pd.DataFrame([Point(0, 0), Point(0, 3), Point(2, 3)])\n",
              "   x  y\n",
              "0  0  0\n",
              "1  0  3\n",
              "2  2  3\n",
              "\n",
              "Constructing DataFrame from Series/DataFrame:\n",
              "\n",
              "&gt;&gt;&gt; ser = pd.Series([1, 2, 3], index=[&quot;a&quot;, &quot;b&quot;, &quot;c&quot;])\n",
              "&gt;&gt;&gt; df = pd.DataFrame(data=ser, index=[&quot;a&quot;, &quot;c&quot;])\n",
              "&gt;&gt;&gt; df\n",
              "   0\n",
              "a  1\n",
              "c  3\n",
              "\n",
              "&gt;&gt;&gt; df1 = pd.DataFrame([1, 2, 3], index=[&quot;a&quot;, &quot;b&quot;, &quot;c&quot;], columns=[&quot;x&quot;])\n",
              "&gt;&gt;&gt; df2 = pd.DataFrame(data=df1, index=[&quot;a&quot;, &quot;c&quot;])\n",
              "&gt;&gt;&gt; df2\n",
              "   x\n",
              "a  1\n",
              "c  3</pre>\n",
              "      <script>\n",
              "      if (google.colab.kernel.accessAllowed && google.colab.files && google.colab.files.view) {\n",
              "        for (const element of document.querySelectorAll('.filepath')) {\n",
              "          element.style.display = 'block'\n",
              "          element.onclick = (event) => {\n",
              "            event.preventDefault();\n",
              "            event.stopPropagation();\n",
              "            google.colab.files.view(element.textContent, 509);\n",
              "          };\n",
              "        }\n",
              "      }\n",
              "      for (const element of document.querySelectorAll('.function-repr-contents')) {\n",
              "        element.onclick = (event) => {\n",
              "          event.preventDefault();\n",
              "          event.stopPropagation();\n",
              "          element.classList.toggle('function-repr-contents-collapsed');\n",
              "        };\n",
              "      }\n",
              "      </script>\n",
              "      </div>"
            ]
          },
          "metadata": {},
          "execution_count": 4
        }
      ]
    },
    {
      "cell_type": "markdown",
      "source": [
        "Здесь нас не устраивает сгенерированный столбец с индексами, а также, что тип объекта - DataFrame. У нас парная регрессия, поэтому было бы удобно работать со столбцами - Series. Исправим"
      ],
      "metadata": {
        "id": "aJgEHUfaPI1M"
      }
    },
    {
      "cell_type": "code",
      "source": [
        "x = pd.read_csv('https://raw.githubusercontent.com/koroteevmv/ML_course/2023/ML1.1%20linear%20regression/data/x.csv', index_col=0)['0']\n",
        "y = pd.read_csv('https://raw.githubusercontent.com/koroteevmv/ML_course/2023/ML1.1%20linear%20regression/data/y.csv', index_col=0)['0']\n",
        "x.head()"
      ],
      "metadata": {
        "colab": {
          "base_uri": "https://localhost:8080/",
          "height": 241
        },
        "id": "b-p9B15QPDye",
        "outputId": "2a913762-2460-4ee3-a8c5-c5b53ca3e32d"
      },
      "execution_count": null,
      "outputs": [
        {
          "output_type": "execute_result",
          "data": {
            "text/plain": [
              "0    1.462108\n",
              "1    1.133769\n",
              "2   -2.301539\n",
              "3    1.744812\n",
              "4    0.042214\n",
              "Name: 0, dtype: float64"
            ],
            "text/html": [
              "<div>\n",
              "<style scoped>\n",
              "    .dataframe tbody tr th:only-of-type {\n",
              "        vertical-align: middle;\n",
              "    }\n",
              "\n",
              "    .dataframe tbody tr th {\n",
              "        vertical-align: top;\n",
              "    }\n",
              "\n",
              "    .dataframe thead th {\n",
              "        text-align: right;\n",
              "    }\n",
              "</style>\n",
              "<table border=\"1\" class=\"dataframe\">\n",
              "  <thead>\n",
              "    <tr style=\"text-align: right;\">\n",
              "      <th></th>\n",
              "      <th>0</th>\n",
              "    </tr>\n",
              "  </thead>\n",
              "  <tbody>\n",
              "    <tr>\n",
              "      <th>0</th>\n",
              "      <td>1.462108</td>\n",
              "    </tr>\n",
              "    <tr>\n",
              "      <th>1</th>\n",
              "      <td>1.133769</td>\n",
              "    </tr>\n",
              "    <tr>\n",
              "      <th>2</th>\n",
              "      <td>-2.301539</td>\n",
              "    </tr>\n",
              "    <tr>\n",
              "      <th>3</th>\n",
              "      <td>1.744812</td>\n",
              "    </tr>\n",
              "    <tr>\n",
              "      <th>4</th>\n",
              "      <td>0.042214</td>\n",
              "    </tr>\n",
              "  </tbody>\n",
              "</table>\n",
              "</div><br><label><b>dtype:</b> float64</label>"
            ]
          },
          "metadata": {},
          "execution_count": 5
        }
      ]
    },
    {
      "cell_type": "markdown",
      "source": [
        "Отобразим график зависимости y от x"
      ],
      "metadata": {
        "id": "_niYmahdP6n1"
      }
    },
    {
      "cell_type": "code",
      "source": [
        "plt.figure()\n",
        "plt.scatter(x, y)\n",
        "plt.show()"
      ],
      "metadata": {
        "colab": {
          "base_uri": "https://localhost:8080/",
          "height": 430
        },
        "id": "GIgRbaKBPC2U",
        "outputId": "52ae906f-c13f-46ed-bb73-8211f1b7e639"
      },
      "execution_count": null,
      "outputs": [
        {
          "output_type": "display_data",
          "data": {
            "text/plain": [
              "<Figure size 640x480 with 1 Axes>"
            ],
            "image/png": "[encoded data removed]"
          },
          "metadata": {}
        }
      ]
    },
    {
      "cell_type": "markdown",
      "source": [
        "График очень похож на линейный - значит продолжаем использовать парную линейную регрессию.\n",
        "\n",
        "Опишем класс модели"
      ],
      "metadata": {
        "id": "pXFmo9EnQGqD"
      }
    },
    {
      "cell_type": "code",
      "source": [
        "\"\"\"Модель парной линейной регрессии\"\"\"\n",
        "class Model(object):\n",
        "    \"\"\"\n",
        "    Конструктор класса\n",
        "    \"\"\"\n",
        "    def __init__(self):\n",
        "        self.b0 = 0\n",
        "        self.b1 = 0\n",
        "\n",
        "    \"\"\"\n",
        "    Предсказывает значение целевой переменной при текущих параметрах.\n",
        "\n",
        "    :param x: фактор\n",
        "    :return: значение выходной переменной\n",
        "    \"\"\"\n",
        "    def predict(self, x):\n",
        "      return self.b0 + self.b1 * x\n",
        "\n",
        "    \"\"\"\n",
        "    Рассчитывает функцию ошибки MSE (mean squared error) для\n",
        "    текущих параметрах регрессии.\n",
        "\n",
        "    :param X: фактор, по которому будет делаться предсказание\n",
        "    :param Y: реальное значение целевой переменной\n",
        "    :return: значение функции ошибки\n",
        "    \"\"\"\n",
        "    def error(self, X, Y):\n",
        "        return sum((self.predict(X) - Y)**2) / (2 * len(X))\n",
        "\n",
        "    \"\"\"\n",
        "    Обучение модели методом градиентного спуска.\n",
        "\n",
        "    :param X: фактор, по которому будет делаться предсказание\n",
        "    :param Y: реальное значение целевой переменной\n",
        "    \"\"\"\n",
        "    def fit(self, X, Y):\n",
        "        alpha = 0.1 # Скорость обучения\n",
        "        dJ0 = sum(self.predict(X) - Y) /len(X)\n",
        "        dJ1 = sum((self.predict(X) - Y) * X) /len(X)\n",
        "        self.b0 -= alpha * dJ0\n",
        "        self.b1 -= alpha * dJ1"
      ],
      "metadata": {
        "id": "rYBcPmZZQh_V"
      },
      "execution_count": null,
      "outputs": []
    },
    {
      "cell_type": "markdown",
      "source": [
        "Создадим объект модели обучения и посмотрим на начальное значение ошибки"
      ],
      "metadata": {
        "id": "76MVr0STTIlr"
      }
    },
    {
      "cell_type": "code",
      "source": [
        "hyp = Model()\n",
        "print(hyp.predict(0))\n",
        "print(hyp.predict(100))\n",
        "J = hyp.error(x, y)\n",
        "print(\"initial error:\", J)"
      ],
      "metadata": {
        "colab": {
          "base_uri": "https://localhost:8080/"
        },
        "id": "Izs-kZq9TIcl",
        "outputId": "59148df6-8af5-47c6-e507-7398542db8e3"
      },
      "execution_count": null,
      "outputs": [
        {
          "output_type": "stream",
          "name": "stdout",
          "text": [
            "0\n",
            "0\n",
            "initial error: 2937.6446095153406\n"
          ]
        }
      ]
    },
    {
      "cell_type": "markdown",
      "source": [
        "Начальная ошибка: 2937\n",
        "\n",
        "Изобразим нашу необученную регрессию"
      ],
      "metadata": {
        "id": "_lDevBEcT7Wt"
      }
    },
    {
      "cell_type": "code",
      "source": [
        "X0 = np.linspace(-3, 2, 100)\n",
        "Y0 = hyp.predict(X0)\n",
        "plt.figure()\n",
        "plt.scatter(x, y)\n",
        "plt.plot(X0, Y0, 'r')\n",
        "plt.show()"
      ],
      "metadata": {
        "colab": {
          "base_uri": "https://localhost:8080/",
          "height": 430
        },
        "id": "WFHRK40dULZJ",
        "outputId": "09c8cabe-84fe-4002-fdb3-008523290bd7"
      },
      "execution_count": null,
      "outputs": [
        {
          "output_type": "display_data",
          "data": {
            "text/plain": [
              "<Figure size 640x480 with 1 Axes>"
            ],
            "image/png": "[encoded data removed]"
          },
          "metadata": {}
        }
      ]
    },
    {
      "cell_type": "markdown",
      "source": [
        "Обучим с помощью градиентного спуска нашу модель"
      ],
      "metadata": {
        "id": "tTQxNoxYW3XT"
      }
    },
    {
      "cell_type": "code",
      "source": [
        "hyp.fit(x, y)\n",
        "J = hyp.error(x, y)\n",
        "print(\"error after gradient descent:\", J)"
      ],
      "metadata": {
        "colab": {
          "base_uri": "https://localhost:8080/"
        },
        "id": "8RmqHQEvW70P",
        "outputId": "5597601b-53eb-4198-a4a0-7287bbdd94c4"
      },
      "execution_count": null,
      "outputs": [
        {
          "output_type": "stream",
          "name": "stdout",
          "text": [
            "error after gradient descent: 2253.7456808918546\n"
          ]
        }
      ]
    },
    {
      "cell_type": "markdown",
      "source": [
        "Ошибка после одной итерации обучения (после 1 шага) уменьшилась, но нас всё ещё не устраивает. Убедимся в этом с помощью графика"
      ],
      "metadata": {
        "id": "n9lLsJL4XD02"
      }
    },
    {
      "cell_type": "code",
      "source": [
        "X0 = np.linspace(-3, 2, 100)\n",
        "Y0 = hyp.predict(X0)\n",
        "plt.figure()\n",
        "plt.scatter(x, y)\n",
        "plt.plot(X0, Y0, 'r')\n",
        "plt.show()"
      ],
      "metadata": {
        "colab": {
          "base_uri": "https://localhost:8080/",
          "height": 430
        },
        "id": "5p3dDzziXOVM",
        "outputId": "9c3ace44-4304-4dc1-c9db-e03e9d40c75e"
      },
      "execution_count": null,
      "outputs": [
        {
          "output_type": "display_data",
          "data": {
            "text/plain": [
              "<Figure size 640x480 with 1 Axes>"
            ],
            "image/png": "[encoded data removed]"
          },
          "metadata": {}
        }
      ]
    },
    {
      "cell_type": "markdown",
      "source": [
        "* Модифицируем конструктор, чтобы задавать произвольные исходные параметры модели\n",
        "* Добавим больше итераций обучения\n",
        "* Добавим возврат списка ошибок и номера итерации\n",
        "* Добавим пару строк для адаптивной скорости обучения"
      ],
      "metadata": {
        "id": "eZPw9JrcXTYB"
      }
    },
    {
      "cell_type": "code",
      "source": [
        "\"\"\"Модель парной линейной регрессии\"\"\"\n",
        "class Model(object):\n",
        "    def __init__(self, b0 = 0, b1 = 0):\n",
        "        self.b0 = b0\n",
        "        self.b1 = b1\n",
        "\n",
        "    def predict(self, X):\n",
        "        return self.b0 + self.b1 * X\n",
        "\n",
        "    def error(self, X, Y):\n",
        "        return sum(((self.predict(X) - Y)**2) / (2 * len(X)))\n",
        "\n",
        "    def fit(self, X, Y, alpha=0.001, max_steps=5000):\n",
        "        steps, errors = [1], [self.error(X, Y)]\n",
        "        for step in range(2, max_steps):\n",
        "            dJ0 = sum(self.predict(X) - Y) / len(X)\n",
        "            dJ1 = sum((self.predict(X) - Y) * X) / len(X)\n",
        "            self.b0 -= alpha * dJ0\n",
        "            self.b1 -= alpha * dJ1\n",
        "\n",
        "            new_err = self.error(X, Y)\n",
        "\n",
        "            steps.append(step + 1)\n",
        "            errors.append(new_err)\n",
        "        return steps, errors"
      ],
      "metadata": {
        "id": "-dPvaeJ4XW4a"
      },
      "execution_count": null,
      "outputs": []
    },
    {
      "cell_type": "markdown",
      "source": [
        "Протестируем"
      ],
      "metadata": {
        "id": "WzxWy8LuYGDh"
      }
    },
    {
      "cell_type": "code",
      "source": [
        "hyp = Model()\n",
        "steps, errors = hyp.fit(x, y)\n",
        "J = hyp.error(x, y)\n",
        "print(\"error after gradient descent:\", J)"
      ],
      "metadata": {
        "colab": {
          "base_uri": "https://localhost:8080/"
        },
        "id": "W66M_o9uYH3L",
        "outputId": "2fd9bfe1-59a2-4ebd-d451-3358f321cff8"
      },
      "execution_count": null,
      "outputs": [
        {
          "output_type": "stream",
          "name": "stdout",
          "text": [
            "error after gradient descent: 0.039530336184190835\n"
          ]
        }
      ]
    },
    {
      "cell_type": "markdown",
      "source": [
        "Отлично, ошибка сильно уменьшилась и близка к нулю. Посмотрим на график"
      ],
      "metadata": {
        "id": "FvchNaWiYX8B"
      }
    },
    {
      "cell_type": "code",
      "source": [
        "X0 = np.linspace(-3, 2, 100)\n",
        "Y0 = hyp.predict(X0)\n",
        "plt.figure()\n",
        "plt.scatter(x, y)\n",
        "plt.plot(X0, Y0, 'r')\n",
        "plt.show()"
      ],
      "metadata": {
        "colab": {
          "base_uri": "https://localhost:8080/",
          "height": 430
        },
        "id": "UH7f9M_CYV6E",
        "outputId": "253ad856-16da-43ea-b1df-3394e126131f"
      },
      "execution_count": null,
      "outputs": [
        {
          "output_type": "display_data",
          "data": {
            "text/plain": [
              "<Figure size 640x480 with 1 Axes>"
            ],
            "image/png": "[encoded data removed]"
          },
          "metadata": {}
        }
      ]
    },
    {
      "cell_type": "markdown",
      "source": [
        "Линия регрессии довольно похожа на оптимальную. Посмотрим на ошибку регрессии на разных итерациях"
      ],
      "metadata": {
        "id": "YgAcrVDdYpvK"
      }
    },
    {
      "cell_type": "code",
      "source": [
        "plt.figure()\n",
        "plt.plot(steps, errors, 'g')\n",
        "plt.show()"
      ],
      "metadata": {
        "colab": {
          "base_uri": "https://localhost:8080/",
          "height": 430
        },
        "id": "aH0yQLkfYm7m",
        "outputId": "6bb33b1f-27ee-4dfa-b07f-fabc854fe365"
      },
      "execution_count": null,
      "outputs": [
        {
          "output_type": "display_data",
          "data": {
            "text/plain": [
              "<Figure size 640x480 with 1 Axes>"
            ],
            "image/png": "[encoded data removed]"
          },
          "metadata": {}
        }
      ]
    },
    {
      "cell_type": "markdown",
      "source": [
        "### Задания для самостоятельного выполнения"
      ],
      "metadata": {
        "id": "JAtiG8BIZu3g"
      }
    },
    {
      "cell_type": "markdown",
      "source": [
        "#### Задание 1\n",
        "Проверьте работу модели с разными начальными значениями параметров. Убедитесь, что модель всегда сходится к оптимуму."
      ],
      "metadata": {
        "id": "ySmx-dlcioXH"
      }
    },
    {
      "cell_type": "code",
      "source": [
        "def print_and_fit(model: Model):\n",
        "  J = model.error(x, y)\n",
        "  print(f\"Model initial parameters: b0 = {model.b0}, b1 = {model.b1}\")\n",
        "  print(\"initial error:\", J)\n",
        "  steps, errors = model.fit(x, y, alpha=1)\n",
        "  J = model.error(x, y)\n",
        "  print(\"error after gradient descent:\", J)\n",
        "  print()"
      ],
      "metadata": {
        "id": "uten2_Q2aH4f"
      },
      "execution_count": null,
      "outputs": []
    },
    {
      "cell_type": "markdown",
      "source": [
        "А теперь проверим начальную ошибку и ошибку после обучения при разных исходных параметрах:"
      ],
      "metadata": {
        "id": "QTM0q2i0a-So"
      }
    },
    {
      "cell_type": "code",
      "source": [
        "hyp1 = Model() #b0, b1 = 0, 0\n",
        "print_and_fit(hyp1)\n",
        "\n",
        "hyp2 = Model(b0 = 100, b1 = 100)\n",
        "print_and_fit(hyp2)\n",
        "\n",
        "hyp3 = Model(b0 = 0, b1 = 1)\n",
        "print_and_fit(hyp3)\n",
        "\n",
        "hyp4 = Model(b0 = 1234567, b1 = -98765)\n",
        "print_and_fit(hyp4)"
      ],
      "metadata": {
        "colab": {
          "base_uri": "https://localhost:8080/"
        },
        "id": "AWFmjSGtaouJ",
        "outputId": "753a0d63-ffbd-48a1-960c-21e4422dcbff"
      },
      "execution_count": null,
      "outputs": [
        {
          "output_type": "stream",
          "name": "stdout",
          "text": [
            "Model initial parameters: b0 = 0, b1 = 0\n",
            "initial error: 2937.6446095153397\n",
            "error after gradient descent: 2.5879568071906823e-29\n",
            "\n",
            "Model initial parameters: b0 = 100, b1 = 100\n",
            "initial error: 5171.698197339665\n",
            "error after gradient descent: 2.532243505759448e-29\n",
            "\n",
            "Model initial parameters: b0 = 0, b1 = 1\n",
            "initial error: 2853.3401853653986\n",
            "error after gradient descent: 2.5879568071906823e-29\n",
            "\n",
            "Model initial parameters: b0 = 1234567, b1 = -98765\n",
            "initial error: 784345186504.1245\n",
            "error after gradient descent: 2.532243505759448e-29\n",
            "\n"
          ]
        }
      ]
    },
    {
      "cell_type": "markdown",
      "source": [
        "Как видно выше, при разных начальных параметрах модели сходятся"
      ],
      "metadata": {
        "id": "5dWRJaZXcHot"
      }
    },
    {
      "cell_type": "markdown",
      "source": [
        "#### Задание 2\n",
        "Проверьте работу модели с другими значениями скорости обучения. Найдите значение, при котором градиентный спуск расходится."
      ],
      "metadata": {
        "id": "UEyj-K5vfd9S"
      }
    },
    {
      "cell_type": "code",
      "source": [
        "hyp = Model(b0 = 1234567, b1 = -98765)\n",
        "steps, errors = hyp.fit(x, y, alpha=10, max_steps=100)\n",
        "J = hyp.error(x, y)\n",
        "print(\"error after gradient descent:\", J)"
      ],
      "metadata": {
        "colab": {
          "base_uri": "https://localhost:8080/"
        },
        "id": "pr3B5ISHfkX6",
        "outputId": "249294d5-cc6c-44fe-946f-e1be389cd7bb"
      },
      "execution_count": null,
      "outputs": [
        {
          "output_type": "stream",
          "name": "stdout",
          "text": [
            "error after gradient descent: 1.2753630771170266e+222\n"
          ]
        }
      ]
    },
    {
      "cell_type": "code",
      "source": [
        "plt.figure()\n",
        "plt.plot(steps, errors, 'g')\n",
        "plt.show()"
      ],
      "metadata": {
        "colab": {
          "base_uri": "https://localhost:8080/",
          "height": 445
        },
        "id": "P6lLvfEff3d1",
        "outputId": "5c2f3b4d-a300-4137-8657-ca4d81bd7b3e"
      },
      "execution_count": null,
      "outputs": [
        {
          "output_type": "display_data",
          "data": {
            "text/plain": [
              "<Figure size 640x480 with 1 Axes>"
            ],
            "image/png": "[encoded data removed]"
          },
          "metadata": {}
        }
      ]
    },
    {
      "cell_type": "markdown",
      "source": [
        "#### Задание 3\n",
        "Модифицируйте код модели таким образом, чтобы он корректно работал как с Series, так и с DataFrame. При этом, конечно, датафрейм не должен содержать \"лишних\" столбцов."
      ],
      "metadata": {
        "id": "xjnUMtnlfytm"
      }
    },
    {
      "cell_type": "code",
      "source": [
        "\"\"\"Модель парной линейной регрессии\"\"\"\n",
        "class Model(object):\n",
        "    def __init__(self, b0 = 0, b1 = 0):\n",
        "        self.b0 = b0\n",
        "        self.b1 = b1\n",
        "\n",
        "    def getSeries(self, data):\n",
        "      return data[\"0\"] if isinstance(data, pd.DataFrame) else data\n",
        "\n",
        "    def predict(self, X):\n",
        "        X = self.getSeries(X)\n",
        "        return self.b0 + self.b1 * X\n",
        "\n",
        "    def error(self, X, Y):\n",
        "        X = self.getSeries(X)\n",
        "        Y = self.getSeries(Y)\n",
        "        return sum(((self.predict(X) - Y)**2) / (2 * len(X)))\n",
        "\n",
        "    def fit(self, X, Y, alpha=0.001, max_steps=5000):\n",
        "        X = self.getSeries(X)\n",
        "        Y = self.getSeries(Y)\n",
        "        steps, errors = [1], [self.error(X, Y)]\n",
        "        for step in range(2, max_steps):\n",
        "            dJ0 = sum(self.predict(X) - Y) / len(X)\n",
        "            dJ1 = sum((self.predict(X) - Y) * X) / len(X)\n",
        "            self.b0 -= alpha * dJ0\n",
        "            self.b1 -= alpha * dJ1\n",
        "\n",
        "            new_err = self.error(X, Y)\n",
        "\n",
        "            steps.append(step + 1)\n",
        "            errors.append(new_err)\n",
        "        return steps, errors"
      ],
      "metadata": {
        "id": "M7Rwza1ei3H5"
      },
      "execution_count": null,
      "outputs": []
    },
    {
      "cell_type": "code",
      "source": [
        "x_df = pd.read_csv('https://raw.githubusercontent.com/koroteevmv/ML_course/2023/ML1.1%20linear%20regression/data/x.csv', index_col=0)\n",
        "y_df = pd.read_csv('https://raw.githubusercontent.com/koroteevmv/ML_course/2023/ML1.1%20linear%20regression/data/y.csv', index_col=0)\n",
        "type(x_df)"
      ],
      "metadata": {
        "colab": {
          "base_uri": "https://localhost:8080/",
          "height": 203
        },
        "id": "-Bh9SDIhjSJZ",
        "outputId": "9ee9a149-f3b5-457a-eb93-bac04b3dbb96"
      },
      "execution_count": null,
      "outputs": [
        {
          "output_type": "execute_result",
          "data": {
            "text/plain": [
              "pandas.core.frame.DataFrame"
            ],
            "text/html": [
              "<div style=\"max-width:800px; border: 1px solid var(--colab-border-color);\"><style>\n",
              "      pre.function-repr-contents {\n",
              "        overflow-x: auto;\n",
              "        padding: 8px 12px;\n",
              "        max-height: 500px;\n",
              "      }\n",
              "\n",
              "      pre.function-repr-contents.function-repr-contents-collapsed {\n",
              "        cursor: pointer;\n",
              "        max-height: 100px;\n",
              "      }\n",
              "    </style>\n",
              "    <pre style=\"white-space: initial; background:\n",
              "         var(--colab-secondary-surface-color); padding: 8px 12px;\n",
              "         border-bottom: 1px solid var(--colab-border-color);\"><b>pandas.core.frame.DataFrame</b><br/>def __init__(data=None, index: Axes | None=None, columns: Axes | None=None, dtype: Dtype | None=None, copy: bool | None=None) -&gt; None</pre><pre class=\"function-repr-contents function-repr-contents-collapsed\" style=\"\"><a class=\"filepath\" style=\"display:none\" href=\"#\">/usr/local/lib/python3.11/dist-packages/pandas/core/frame.py</a>Two-dimensional, size-mutable, potentially heterogeneous tabular data.\n",
              "\n",
              "Data structure also contains labeled axes (rows and columns).\n",
              "Arithmetic operations align on both row and column labels. Can be\n",
              "thought of as a dict-like container for Series objects. The primary\n",
              "pandas data structure.\n",
              "\n",
              "Parameters\n",
              "----------\n",
              "data : ndarray (structured or homogeneous), Iterable, dict, or DataFrame\n",
              "    Dict can contain Series, arrays, constants, dataclass or list-like objects. If\n",
              "    data is a dict, column order follows insertion-order. If a dict contains Series\n",
              "    which have an index defined, it is aligned by its index. This alignment also\n",
              "    occurs if data is a Series or a DataFrame itself. Alignment is done on\n",
              "    Series/DataFrame inputs.\n",
              "\n",
              "    If data is a list of dicts, column order follows insertion-order.\n",
              "\n",
              "index : Index or array-like\n",
              "    Index to use for resulting frame. Will default to RangeIndex if\n",
              "    no indexing information part of input data and no index provided.\n",
              "columns : Index or array-like\n",
              "    Column labels to use for resulting frame when data does not have them,\n",
              "    defaulting to RangeIndex(0, 1, 2, ..., n). If data contains column labels,\n",
              "    will perform column selection instead.\n",
              "dtype : dtype, default None\n",
              "    Data type to force. Only a single dtype is allowed. If None, infer.\n",
              "copy : bool or None, default None\n",
              "    Copy data from inputs.\n",
              "    For dict data, the default of None behaves like ``copy=True``.  For DataFrame\n",
              "    or 2d ndarray input, the default of None behaves like ``copy=False``.\n",
              "    If data is a dict containing one or more Series (possibly of different dtypes),\n",
              "    ``copy=False`` will ensure that these inputs are not copied.\n",
              "\n",
              "    .. versionchanged:: 1.3.0\n",
              "\n",
              "See Also\n",
              "--------\n",
              "DataFrame.from_records : Constructor from tuples, also record arrays.\n",
              "DataFrame.from_dict : From dicts of Series, arrays, or dicts.\n",
              "read_csv : Read a comma-separated values (csv) file into DataFrame.\n",
              "read_table : Read general delimited file into DataFrame.\n",
              "read_clipboard : Read text from clipboard into DataFrame.\n",
              "\n",
              "Notes\n",
              "-----\n",
              "Please reference the :ref:`User Guide &lt;basics.dataframe&gt;` for more information.\n",
              "\n",
              "Examples\n",
              "--------\n",
              "Constructing DataFrame from a dictionary.\n",
              "\n",
              "&gt;&gt;&gt; d = {&#x27;col1&#x27;: [1, 2], &#x27;col2&#x27;: [3, 4]}\n",
              "&gt;&gt;&gt; df = pd.DataFrame(data=d)\n",
              "&gt;&gt;&gt; df\n",
              "   col1  col2\n",
              "0     1     3\n",
              "1     2     4\n",
              "\n",
              "Notice that the inferred dtype is int64.\n",
              "\n",
              "&gt;&gt;&gt; df.dtypes\n",
              "col1    int64\n",
              "col2    int64\n",
              "dtype: object\n",
              "\n",
              "To enforce a single dtype:\n",
              "\n",
              "&gt;&gt;&gt; df = pd.DataFrame(data=d, dtype=np.int8)\n",
              "&gt;&gt;&gt; df.dtypes\n",
              "col1    int8\n",
              "col2    int8\n",
              "dtype: object\n",
              "\n",
              "Constructing DataFrame from a dictionary including Series:\n",
              "\n",
              "&gt;&gt;&gt; d = {&#x27;col1&#x27;: [0, 1, 2, 3], &#x27;col2&#x27;: pd.Series([2, 3], index=[2, 3])}\n",
              "&gt;&gt;&gt; pd.DataFrame(data=d, index=[0, 1, 2, 3])\n",
              "   col1  col2\n",
              "0     0   NaN\n",
              "1     1   NaN\n",
              "2     2   2.0\n",
              "3     3   3.0\n",
              "\n",
              "Constructing DataFrame from numpy ndarray:\n",
              "\n",
              "&gt;&gt;&gt; df2 = pd.DataFrame(np.array([[1, 2, 3], [4, 5, 6], [7, 8, 9]]),\n",
              "...                    columns=[&#x27;a&#x27;, &#x27;b&#x27;, &#x27;c&#x27;])\n",
              "&gt;&gt;&gt; df2\n",
              "   a  b  c\n",
              "0  1  2  3\n",
              "1  4  5  6\n",
              "2  7  8  9\n",
              "\n",
              "Constructing DataFrame from a numpy ndarray that has labeled columns:\n",
              "\n",
              "&gt;&gt;&gt; data = np.array([(1, 2, 3), (4, 5, 6), (7, 8, 9)],\n",
              "...                 dtype=[(&quot;a&quot;, &quot;i4&quot;), (&quot;b&quot;, &quot;i4&quot;), (&quot;c&quot;, &quot;i4&quot;)])\n",
              "&gt;&gt;&gt; df3 = pd.DataFrame(data, columns=[&#x27;c&#x27;, &#x27;a&#x27;])\n",
              "...\n",
              "&gt;&gt;&gt; df3\n",
              "   c  a\n",
              "0  3  1\n",
              "1  6  4\n",
              "2  9  7\n",
              "\n",
              "Constructing DataFrame from dataclass:\n",
              "\n",
              "&gt;&gt;&gt; from dataclasses import make_dataclass\n",
              "&gt;&gt;&gt; Point = make_dataclass(&quot;Point&quot;, [(&quot;x&quot;, int), (&quot;y&quot;, int)])\n",
              "&gt;&gt;&gt; pd.DataFrame([Point(0, 0), Point(0, 3), Point(2, 3)])\n",
              "   x  y\n",
              "0  0  0\n",
              "1  0  3\n",
              "2  2  3\n",
              "\n",
              "Constructing DataFrame from Series/DataFrame:\n",
              "\n",
              "&gt;&gt;&gt; ser = pd.Series([1, 2, 3], index=[&quot;a&quot;, &quot;b&quot;, &quot;c&quot;])\n",
              "&gt;&gt;&gt; df = pd.DataFrame(data=ser, index=[&quot;a&quot;, &quot;c&quot;])\n",
              "&gt;&gt;&gt; df\n",
              "   0\n",
              "a  1\n",
              "c  3\n",
              "\n",
              "&gt;&gt;&gt; df1 = pd.DataFrame([1, 2, 3], index=[&quot;a&quot;, &quot;b&quot;, &quot;c&quot;], columns=[&quot;x&quot;])\n",
              "&gt;&gt;&gt; df2 = pd.DataFrame(data=df1, index=[&quot;a&quot;, &quot;c&quot;])\n",
              "&gt;&gt;&gt; df2\n",
              "   x\n",
              "a  1\n",
              "c  3</pre>\n",
              "      <script>\n",
              "      if (google.colab.kernel.accessAllowed && google.colab.files && google.colab.files.view) {\n",
              "        for (const element of document.querySelectorAll('.filepath')) {\n",
              "          element.style.display = 'block'\n",
              "          element.onclick = (event) => {\n",
              "            event.preventDefault();\n",
              "            event.stopPropagation();\n",
              "            google.colab.files.view(element.textContent, 509);\n",
              "          };\n",
              "        }\n",
              "      }\n",
              "      for (const element of document.querySelectorAll('.function-repr-contents')) {\n",
              "        element.onclick = (event) => {\n",
              "          event.preventDefault();\n",
              "          event.stopPropagation();\n",
              "          element.classList.toggle('function-repr-contents-collapsed');\n",
              "        };\n",
              "      }\n",
              "      </script>\n",
              "      </div>"
            ]
          },
          "metadata": {},
          "execution_count": 21
        }
      ]
    },
    {
      "cell_type": "markdown",
      "source": [
        "Проверим работоспособность на новом типе"
      ],
      "metadata": {
        "id": "sW09reN-lq1W"
      }
    },
    {
      "cell_type": "code",
      "source": [
        "hyp = Model()\n",
        "J = hyp.error(x_df, y_df)\n",
        "print(\"initial error:\", J)\n",
        "steps, errors = hyp.fit(x_df, y_df, alpha=1)\n",
        "J = hyp.error(x_df, y_df)\n",
        "print(\"error after gradient descent:\", J)"
      ],
      "metadata": {
        "colab": {
          "base_uri": "https://localhost:8080/"
        },
        "id": "agyrJFdtkTyW",
        "outputId": "52f5d61f-0242-4987-e02b-202b8105a6cf"
      },
      "execution_count": null,
      "outputs": [
        {
          "output_type": "stream",
          "name": "stdout",
          "text": [
            "initial error: 2937.6446095153397\n",
            "error after gradient descent: 2.5879568071906823e-29\n"
          ]
        }
      ]
    },
    {
      "cell_type": "markdown",
      "source": [
        "Проверим, что не сломали функционал с Series"
      ],
      "metadata": {
        "id": "aFibCINUlwTP"
      }
    },
    {
      "cell_type": "code",
      "source": [
        "hyp = Model()\n",
        "J = hyp.error(x, y)\n",
        "print(\"initial error:\", J)\n",
        "steps, errors = hyp.fit(x, y, alpha=1)\n",
        "J = hyp.error(x, y)\n",
        "print(\"error after gradient descent:\", J)"
      ],
      "metadata": {
        "colab": {
          "base_uri": "https://localhost:8080/"
        },
        "id": "3MW_FJltlYYe",
        "outputId": "26369374-4e96-4871-d512-8f0ec8a9adfb"
      },
      "execution_count": null,
      "outputs": [
        {
          "output_type": "stream",
          "name": "stdout",
          "text": [
            "initial error: 2937.6446095153397\n",
            "error after gradient descent: 2.5879568071906823e-29\n"
          ]
        }
      ]
    },
    {
      "cell_type": "markdown",
      "source": [
        "#### Задание 4\n",
        "Модифицируйте алгоритм градиентного спука таким образом, чтобы он останавливаля, если ошибка перестает снижаться. Для этого сравнивайте, на сколько понизилась ошибка на каждом шаге и если это снижение меньше некоторой заранее заданной очень маленькой величины - выходите из цикла. Эту величину можно взять одну миллионную, например.\n"
      ],
      "metadata": {
        "id": "Js2hNbCBl6Ar"
      }
    },
    {
      "cell_type": "code",
      "source": [
        "\"\"\"Модель парной линейной регрессии\"\"\"\n",
        "class Model(object):\n",
        "    def __init__(self, b0 = 0, b1 = 0):\n",
        "        self.b0 = b0\n",
        "        self.b1 = b1\n",
        "\n",
        "    def getSeries(self, data):\n",
        "      return data[\"0\"] if isinstance(data, pd.DataFrame) else data\n",
        "\n",
        "    def predict(self, X):\n",
        "        X = self.getSeries(X)\n",
        "        return self.b0 + self.b1 * X\n",
        "\n",
        "    def error(self, X, Y):\n",
        "        X = self.getSeries(X)\n",
        "        Y = self.getSeries(Y)\n",
        "        return sum(((self.predict(X) - Y)**2) / (2 * len(X)))\n",
        "\n",
        "    def fit(self, X, Y, alpha=0.001, max_steps=5000):\n",
        "        X = self.getSeries(X)\n",
        "        Y = self.getSeries(Y)\n",
        "        steps, errors = [1], [self.error(X, Y)]\n",
        "        for step in range(2, max_steps):\n",
        "            dJ0 = sum(self.predict(X) - Y) / len(X)\n",
        "            dJ1 = sum((self.predict(X) - Y) * X) / len(X)\n",
        "            self.b0 -= alpha * dJ0\n",
        "            self.b1 -= alpha * dJ1\n",
        "\n",
        "            new_err = self.error(X, Y)\n",
        "            old_err = errors[-1]\n",
        "\n",
        "            steps.append(step + 1)\n",
        "            errors.append(new_err)\n",
        "\n",
        "            if new_err < 0.000001:\n",
        "              break\n",
        "        return steps, errors"
      ],
      "metadata": {
        "id": "-uHKrX-5l9zV"
      },
      "execution_count": null,
      "outputs": []
    },
    {
      "cell_type": "markdown",
      "source": [
        "Проверим"
      ],
      "metadata": {
        "id": "AUmllcu8nGyj"
      }
    },
    {
      "cell_type": "code",
      "source": [
        "hyp = Model()\n",
        "J = hyp.error(x, y)\n",
        "print(\"initial error:\", J)\n",
        "steps, errors = hyp.fit(x, y, alpha=1)\n",
        "J = hyp.error(x, y)\n",
        "print(\"error after gradient descent:\", J)"
      ],
      "metadata": {
        "colab": {
          "base_uri": "https://localhost:8080/"
        },
        "id": "VDSuKUW2nAqj",
        "outputId": "634af6b1-cb84-4877-957f-6bd197ea0f32"
      },
      "execution_count": null,
      "outputs": [
        {
          "output_type": "stream",
          "name": "stdout",
          "text": [
            "initial error: 2937.6446095153397\n",
            "error after gradient descent: 5.004251093279586e-07\n"
          ]
        }
      ]
    },
    {
      "cell_type": "code",
      "source": [
        "plt.figure()\n",
        "plt.plot(steps, errors, 'g')\n",
        "plt.show()"
      ],
      "metadata": {
        "colab": {
          "base_uri": "https://localhost:8080/",
          "height": 430
        },
        "id": "C8pd2D0enDEv",
        "outputId": "8ca53441-9bc4-4f7e-87d7-7096fa5cc176"
      },
      "execution_count": null,
      "outputs": [
        {
          "output_type": "display_data",
          "data": {
            "text/plain": [
              "<Figure size 640x480 with 1 Axes>"
            ],
            "image/png": "[encoded data removed]"
          },
          "metadata": {}
        }
      ]
    },
    {
      "cell_type": "markdown",
      "source": [
        "Как видно из графика, нам понадобилось всего лишь 12 итераций для нормального обучения"
      ],
      "metadata": {
        "id": "NTOTMR2mnKAx"
      }
    },
    {
      "cell_type": "markdown",
      "source": [
        "#### Задание 5\n",
        "Убедитесь, что алгоритм градиентного спуска завершается всегда - либо если ошибка перестает существенно меняться, либо при достижении максимального количества шагов"
      ],
      "metadata": {
        "id": "mGx37Bg0nPFi"
      }
    },
    {
      "cell_type": "markdown",
      "source": [
        "Случай, если ошибка перестает существенно меняться, уже проверен выше. Теперь проверим второй случай"
      ],
      "metadata": {
        "id": "5VLYS5yLnUYp"
      }
    },
    {
      "cell_type": "code",
      "source": [
        "hyp = Model()\n",
        "J = hyp.error(x, y)\n",
        "print(\"initial error:\", J)\n",
        "steps, errors = hyp.fit(x, y, alpha=0.0001)\n",
        "J = hyp.error(x, y)\n",
        "print(\"error after gradient descent:\", J)"
      ],
      "metadata": {
        "colab": {
          "base_uri": "https://localhost:8080/"
        },
        "id": "XFr0WhrLnggT",
        "outputId": "5504059f-a32e-4b71-d185-148734c1c56e"
      },
      "execution_count": null,
      "outputs": [
        {
          "output_type": "stream",
          "name": "stdout",
          "text": [
            "initial error: 2937.6446095153397\n",
            "error after gradient descent: 855.5112877221975\n"
          ]
        }
      ]
    },
    {
      "cell_type": "code",
      "source": [
        "plt.figure()\n",
        "plt.plot(steps, errors, 'g')\n",
        "plt.show()"
      ],
      "metadata": {
        "colab": {
          "base_uri": "https://localhost:8080/",
          "height": 430
        },
        "id": "m2imYX2Dnkq3",
        "outputId": "68a3d743-38fb-4867-8adf-2d489bbe4433"
      },
      "execution_count": null,
      "outputs": [
        {
          "output_type": "display_data",
          "data": {
            "text/plain": [
              "<Figure size 640x480 with 1 Axes>"
            ],
            "image/png": "[encoded data removed]"
          },
          "metadata": {}
        }
      ]
    },
    {
      "cell_type": "markdown",
      "source": [
        "#### Задание 6\n",
        "Реализуйте механизм адаптивной скорости обучения. Чтобы не задавать вручную параметр alpha можно отслеживать, увеличивается ли ошибка после первого шага градиентного спуска. В начале задаем скорость обучения близкой к 1. Если ошибка после одного шага увеличивается - скорость обучения надо уменьшить (например, в 2 раза). Если не увеличивается - скорость обучения можно не трогать. Еще подумайте, как после уменьшения скорости перезапускать градиентный спуск заново."
      ],
      "metadata": {
        "id": "zLkGt9mfnpSY"
      }
    },
    {
      "cell_type": "code",
      "source": [
        "\"\"\"Модель парной линейной регрессии\"\"\"\n",
        "class Model(object):\n",
        "    def __init__(self, b0 = 0, b1 = 0):\n",
        "        self.b0 = b0\n",
        "        self.b1 = b1\n",
        "\n",
        "    def getSeries(self, data):\n",
        "      return data[\"0\"] if isinstance(data, pd.DataFrame) else data\n",
        "\n",
        "    def predict(self, X):\n",
        "        X = self.getSeries(X)\n",
        "        return self.b0 + self.b1 * X\n",
        "\n",
        "    def error(self, X, Y):\n",
        "        X = self.getSeries(X)\n",
        "        Y = self.getSeries(Y)\n",
        "        return sum(((self.predict(X) - Y)**2) / (2 * len(X)))\n",
        "\n",
        "    def fit(self, X, Y, alpha=1, max_steps=5000):\n",
        "        X = self.getSeries(X)\n",
        "        Y = self.getSeries(Y)\n",
        "        steps, errors = [1], [self.error(X, Y)]\n",
        "        for step in range(2, max_steps):\n",
        "            old_b0 = self.b0\n",
        "            old_b1 = self.b1\n",
        "            dJ0 = sum(self.predict(X) - Y) / len(X)\n",
        "            dJ1 = sum((self.predict(X) - Y) * X) / len(X)\n",
        "            self.b0 -= alpha * dJ0\n",
        "            self.b1 -= alpha * dJ1\n",
        "\n",
        "            new_err = self.error(X, Y)\n",
        "            old_err = errors[-1]\n",
        "\n",
        "            steps.append(step + 1)\n",
        "            errors.append(new_err)\n",
        "\n",
        "            if old_err < new_err:\n",
        "              alpha /= 2\n",
        "              self.b0 = old_b0\n",
        "              self.b1 = old_b1\n",
        "\n",
        "            if new_err < 0.000001:\n",
        "              break\n",
        "        return steps, errors"
      ],
      "metadata": {
        "id": "nK4JntSFnwi6"
      },
      "execution_count": null,
      "outputs": []
    },
    {
      "cell_type": "code",
      "source": [
        "hyp = Model(b0 = 1234567, b1 = -98765)\n",
        "steps, errors = hyp.fit(x, y, alpha=10, max_steps=100)\n",
        "J = hyp.error(x, y)\n",
        "print(\"error after gradient descent:\", J)"
      ],
      "metadata": {
        "colab": {
          "base_uri": "https://localhost:8080/"
        },
        "id": "5ZGByhoeoZhW",
        "outputId": "a92790b7-90ad-4384-c162-82a28d98ce91"
      },
      "execution_count": null,
      "outputs": [
        {
          "output_type": "stream",
          "name": "stdout",
          "text": [
            "error after gradient descent: 7.359418316571377e-07\n"
          ]
        }
      ]
    },
    {
      "cell_type": "code",
      "source": [
        "plt.figure()\n",
        "plt.plot(steps, errors, 'g')\n",
        "plt.show()"
      ],
      "metadata": {
        "colab": {
          "base_uri": "https://localhost:8080/",
          "height": 445
        },
        "id": "2_g-0mE4ojfy",
        "outputId": "8c4c5d42-6434-4a80-94ea-50d103910818"
      },
      "execution_count": null,
      "outputs": [
        {
          "output_type": "display_data",
          "data": {
            "text/plain": [
              "<Figure size 640x480 with 1 Axes>"
            ],
            "image/png": "[encoded data removed]"
          },
          "metadata": {}
        }
      ]
    },
    {
      "cell_type": "markdown",
      "source": [
        "#### Задание 7\n",
        "Добавьте к классу модели метод рисования графиков. Сделайте так, чтобы он был независим от масштаба переданных данных"
      ],
      "metadata": {
        "id": "XziH8yyLpiL6"
      }
    },
    {
      "cell_type": "code",
      "source": [
        "\"\"\"Модель парной линейной регрессии\"\"\"\n",
        "class Model(object):\n",
        "    def __init__(self, b0 = 0, b1 = 0):\n",
        "        self.b0 = b0\n",
        "        self.b1 = b1\n",
        "\n",
        "    def getSeries(self, data):\n",
        "      return data[\"0\"] if isinstance(data, pd.DataFrame) else data\n",
        "\n",
        "    def predict(self, X):\n",
        "        X = self.getSeries(X)\n",
        "        return self.b0 + self.b1 * X\n",
        "\n",
        "    def error(self, X, Y):\n",
        "        X = self.getSeries(X)\n",
        "        Y = self.getSeries(Y)\n",
        "        return sum(((self.predict(X) - Y)**2) / (2 * len(X)))\n",
        "\n",
        "    def fit(self, X, Y, alpha=1, max_steps=5000):\n",
        "        X = self.getSeries(X)\n",
        "        Y = self.getSeries(Y)\n",
        "        steps, errors = [1], [self.error(X, Y)]\n",
        "        for step in range(2, max_steps):\n",
        "            old_b0 = self.b0\n",
        "            old_b1 = self.b1\n",
        "            dJ0 = sum(self.predict(X) - Y) / len(X)\n",
        "            dJ1 = sum((self.predict(X) - Y) * X) / len(X)\n",
        "            self.b0 -= alpha * dJ0\n",
        "            self.b1 -= alpha * dJ1\n",
        "\n",
        "            new_err = self.error(X, Y)\n",
        "            old_err = errors[-1]\n",
        "\n",
        "            steps.append(step + 1)\n",
        "            errors.append(new_err)\n",
        "\n",
        "            if old_err < new_err:\n",
        "              alpha /= 2\n",
        "              self.b0 = old_b0\n",
        "              self.b1 = old_b1\n",
        "\n",
        "            if new_err < 0.000001:\n",
        "              break\n",
        "        return steps, errors\n",
        "\n",
        "    def plot(self, X, Y):\n",
        "        X = self.getSeries(X)\n",
        "        Y = self.getSeries(Y)\n",
        "\n",
        "        x_min, x_max = X.min(), X.max()\n",
        "        x_range = x_max - x_min\n",
        "        X_plot = np.linspace(x_min - 0.1 * x_range, x_max + 0.1 * x_range, 100)\n",
        "        Y_plot = self.predict(X_plot)\n",
        "\n",
        "        plt.figure()\n",
        "        plt.scatter(X, Y, label=\"Данные\")\n",
        "        plt.plot(X_plot, Y_plot, color='red', label=\"Линия регрессии\")\n",
        "\n",
        "        plt.show()\n",
        "\n",
        "    def error_plot(self, steps, errors):\n",
        "      plt.figure()\n",
        "      plt.plot(steps, errors, 'g')\n",
        "      plt.show()"
      ],
      "metadata": {
        "id": "CFe4d1Xnp3kf"
      },
      "execution_count": null,
      "outputs": []
    },
    {
      "cell_type": "code",
      "source": [
        "hyp = Model(b0 = 1234567, b1 = -98765)\n",
        "steps, errors = hyp.fit(x, y)\n",
        "hyp.plot(x, y)"
      ],
      "metadata": {
        "colab": {
          "base_uri": "https://localhost:8080/",
          "height": 430
        },
        "id": "uvc-tp0tq1Fe",
        "outputId": "18a5fd16-55fc-406e-a595-22427dee496e"
      },
      "execution_count": null,
      "outputs": [
        {
          "output_type": "display_data",
          "data": {
            "text/plain": [
              "<Figure size 640x480 with 1 Axes>"
            ],
            "image/png": "[encoded data removed]"
          },
          "metadata": {}
        }
      ]
    },
    {
      "cell_type": "code",
      "source": [
        "hyp.error_plot(steps, errors)"
      ],
      "metadata": {
        "colab": {
          "base_uri": "https://localhost:8080/",
          "height": 445
        },
        "id": "jx4uwBdUrTjX",
        "outputId": "d0caddac-e5df-4100-98cd-fb49efc8510d"
      },
      "execution_count": null,
      "outputs": [
        {
          "output_type": "display_data",
          "data": {
            "text/plain": [
              "<Figure size 640x480 with 1 Axes>"
            ],
            "image/png": "[encoded data removed]"
          },
          "metadata": {}
        }
      ]
    },
    {
      "cell_type": "markdown",
      "source": [
        "# ЛР 1.2 - Множественная регрессия"
      ],
      "metadata": {
        "id": "nX7luSQ6OPTy"
      }
    },
    {
      "cell_type": "markdown",
      "source": [
        "### Цель работы\n",
        "Познакомиться с основными приемами работы с множественными регрессионными моделями с использованием библиотеки sklearn.\n",
        "\n",
        "### Содержание работы\n",
        "1. Ваша задача - построить предиктивную модель предсказания целевой переменной в зависимости от значения нескольких факторов (признаков).\n",
        "2. Загрузите датасет из приложения. Вам понадобится два файла - отдельно с признаками (помечен x) и значениями целевой переменной (помечен y). Файлы не содержат заголовков столбцов и строк. Выведите первые строки датасета.\n",
        "3. Сделайте количественное описание датасета: количество точек данных, признаков, статистику по каждому признаку.\n",
        "4. Для целевой и каждого из признаков постройте парную регрессионную модель. Визуализируйте линию регрессии и исходные данные на графике. При помощи коэффициентов оцените силу связи.\n",
        "Постройте модель множественной линейной регрессии целевой переменной от всех показателей. Оцените качество регрессии, сделайте вывод."
      ],
      "metadata": {
        "id": "hTFOfaSCroRP"
      }
    },
    {
      "cell_type": "markdown",
      "source": [
        "### Выполнение"
      ],
      "metadata": {
        "id": "UF5v6mFmr7Kv"
      }
    },
    {
      "cell_type": "markdown",
      "source": [
        "Стандартный импорт необходимых библиотек"
      ],
      "metadata": {
        "id": "QZoez360QbiC"
      }
    },
    {
      "cell_type": "code",
      "source": [
        "import numpy as np\n",
        "import pandas as pd\n",
        "import matplotlib.pyplot as plt"
      ],
      "metadata": {
        "id": "5fV82xkCQYeJ"
      },
      "execution_count": null,
      "outputs": []
    },
    {
      "cell_type": "markdown",
      "source": [
        "Считаем данные"
      ],
      "metadata": {
        "id": "MYfsfp8jQeCX"
      }
    },
    {
      "cell_type": "code",
      "source": [
        "x = pd.read_csv(\"https://github.com/koroteevmv/ML_course/raw/main/ML1.2%20multivariate/data/0_x.csv\")"
      ],
      "metadata": {
        "id": "95axdXiMQeQy"
      },
      "execution_count": null,
      "outputs": []
    },
    {
      "cell_type": "markdown",
      "source": [
        "Посмотрим, что там лежит"
      ],
      "metadata": {
        "id": "ALW-Y-VjQlSb"
      }
    },
    {
      "cell_type": "code",
      "source": [
        "x.head()"
      ],
      "metadata": {
        "colab": {
          "base_uri": "https://localhost:8080/",
          "height": 206
        },
        "id": "BKI6yDY4QnVx",
        "outputId": "6a41f8c5-a615-49c0-b129-0b7f55859b54"
      },
      "execution_count": null,
      "outputs": [
        {
          "output_type": "execute_result",
          "data": {
            "text/plain": [
              "   0.07184119218267622  0.8553524138064769  -0.3055966142959303  \\\n",
              "0             0.139521           -0.423507             0.461059   \n",
              "1             1.626311           -0.257622            -0.697520   \n",
              "2            -1.183233           -0.826343             0.073047   \n",
              "3            -0.783365           -0.861232             0.951448   \n",
              "4             3.077357            0.948615            -0.295527   \n",
              "\n",
              "   0.028252569993086545  1.8268953710701943  \n",
              "0             -0.447400           -0.034988  \n",
              "1              1.413219            1.086292  \n",
              "2             -0.639690           -0.503273  \n",
              "3             -0.117306            0.680597  \n",
              "4              1.390358           -0.116174  "
            ],
            "text/html": [
              "\n",
              "  <div id=\"df-fe662c84-8e00-449b-ab26-87c52a4bb769\" class=\"colab-df-container\">\n",
              "    <div>\n",
              "<style scoped>\n",
              "    .dataframe tbody tr th:only-of-type {\n",
              "        vertical-align: middle;\n",
              "    }\n",
              "\n",
              "    .dataframe tbody tr th {\n",
              "        vertical-align: top;\n",
              "    }\n",
              "\n",
              "    .dataframe thead th {\n",
              "        text-align: right;\n",
              "    }\n",
              "</style>\n",
              "<table border=\"1\" class=\"dataframe\">\n",
              "  <thead>\n",
              "    <tr style=\"text-align: right;\">\n",
              "      <th></th>\n",
              "      <th>0.07184119218267622</th>\n",
              "      <th>0.8553524138064769</th>\n",
              "      <th>-0.3055966142959303</th>\n",
              "      <th>0.028252569993086545</th>\n",
              "      <th>1.8268953710701943</th>\n",
              "    </tr>\n",
              "  </thead>\n",
              "  <tbody>\n",
              "    <tr>\n",
              "      <th>0</th>\n",
              "      <td>0.139521</td>\n",
              "      <td>-0.423507</td>\n",
              "      <td>0.461059</td>\n",
              "      <td>-0.447400</td>\n",
              "      <td>-0.034988</td>\n",
              "    </tr>\n",
              "    <tr>\n",
              "      <th>1</th>\n",
              "      <td>1.626311</td>\n",
              "      <td>-0.257622</td>\n",
              "      <td>-0.697520</td>\n",
              "      <td>1.413219</td>\n",
              "      <td>1.086292</td>\n",
              "    </tr>\n",
              "    <tr>\n",
              "      <th>2</th>\n",
              "      <td>-1.183233</td>\n",
              "      <td>-0.826343</td>\n",
              "      <td>0.073047</td>\n",
              "      <td>-0.639690</td>\n",
              "      <td>-0.503273</td>\n",
              "    </tr>\n",
              "    <tr>\n",
              "      <th>3</th>\n",
              "      <td>-0.783365</td>\n",
              "      <td>-0.861232</td>\n",
              "      <td>0.951448</td>\n",
              "      <td>-0.117306</td>\n",
              "      <td>0.680597</td>\n",
              "    </tr>\n",
              "    <tr>\n",
              "      <th>4</th>\n",
              "      <td>3.077357</td>\n",
              "      <td>0.948615</td>\n",
              "      <td>-0.295527</td>\n",
              "      <td>1.390358</td>\n",
              "      <td>-0.116174</td>\n",
              "    </tr>\n",
              "  </tbody>\n",
              "</table>\n",
              "</div>\n",
              "    <div class=\"colab-df-buttons\">\n",
              "\n",
              "  <div class=\"colab-df-container\">\n",
              "    <button class=\"colab-df-convert\" onclick=\"convertToInteractive('df-fe662c84-8e00-449b-ab26-87c52a4bb769')\"\n",
              "            title=\"Convert this dataframe to an interactive table.\"\n",
              "            style=\"display:none;\">\n",
              "\n",
              "  <svg xmlns=\"http://www.w3.org/2000/svg\" height=\"24px\" viewBox=\"0 -960 960 960\">\n",
              "    <path d=\"M120-120v-720h720v720H120Zm60-500h600v-160H180v160Zm220 220h160v-160H400v160Zm0 220h160v-160H400v160ZM180-400h160v-160H180v160Zm440 0h160v-160H620v160ZM180-180h160v-160H180v160Zm440 0h160v-160H620v160Z\"/>\n",
              "  </svg>\n",
              "    </button>\n",
              "\n",
              "  <style>\n",
              "    .colab-df-container {\n",
              "      display:flex;\n",
              "      gap: 12px;\n",
              "    }\n",
              "\n",
              "    .colab-df-convert {\n",
              "      background-color: #E8F0FE;\n",
              "      border: none;\n",
              "      border-radius: 50%;\n",
              "      cursor: pointer;\n",
              "      display: none;\n",
              "      fill: #1967D2;\n",
              "      height: 32px;\n",
              "      padding: 0 0 0 0;\n",
              "      width: 32px;\n",
              "    }\n",
              "\n",
              "    .colab-df-convert:hover {\n",
              "      background-color: #E2EBFA;\n",
              "      box-shadow: 0px 1px 2px rgba(60, 64, 67, 0.3), 0px 1px 3px 1px rgba(60, 64, 67, 0.15);\n",
              "      fill: #174EA6;\n",
              "    }\n",
              "\n",
              "    .colab-df-buttons div {\n",
              "      margin-bottom: 4px;\n",
              "    }\n",
              "\n",
              "    [theme=dark] .colab-df-convert {\n",
              "      background-color: #3B4455;\n",
              "      fill: #D2E3FC;\n",
              "    }\n",
              "\n",
              "    [theme=dark] .colab-df-convert:hover {\n",
              "      background-color: #434B5C;\n",
              "      box-shadow: 0px 1px 3px 1px rgba(0, 0, 0, 0.15);\n",
              "      filter: drop-shadow(0px 1px 2px rgba(0, 0, 0, 0.3));\n",
              "      fill: #FFFFFF;\n",
              "    }\n",
              "  </style>\n",
              "\n",
              "    <script>\n",
              "      const buttonEl =\n",
              "        document.querySelector('#df-fe662c84-8e00-449b-ab26-87c52a4bb769 button.colab-df-convert');\n",
              "      buttonEl.style.display =\n",
              "        google.colab.kernel.accessAllowed ? 'block' : 'none';\n",
              "\n",
              "      async function convertToInteractive(key) {\n",
              "        const element = document.querySelector('#df-fe662c84-8e00-449b-ab26-87c52a4bb769');\n",
              "        const dataTable =\n",
              "          await google.colab.kernel.invokeFunction('convertToInteractive',\n",
              "                                                    [key], {});\n",
              "        if (!dataTable) return;\n",
              "\n",
              "        const docLinkHtml = 'Like what you see? Visit the ' +\n",
              "          '<a target=\"_blank\" href=https://colab.research.google.com/notebooks/data_table.ipynb>data table notebook</a>'\n",
              "          + ' to learn more about interactive tables.';\n",
              "        element.innerHTML = '';\n",
              "        dataTable['output_type'] = 'display_data';\n",
              "        await google.colab.output.renderOutput(dataTable, element);\n",
              "        const docLink = document.createElement('div');\n",
              "        docLink.innerHTML = docLinkHtml;\n",
              "        element.appendChild(docLink);\n",
              "      }\n",
              "    </script>\n",
              "  </div>\n",
              "\n",
              "\n",
              "<div id=\"df-617fcded-c61e-442b-8556-b8a51619aef5\">\n",
              "  <button class=\"colab-df-quickchart\" onclick=\"quickchart('df-617fcded-c61e-442b-8556-b8a51619aef5')\"\n",
              "            title=\"Suggest charts\"\n",
              "            style=\"display:none;\">\n",
              "\n",
              "<svg xmlns=\"http://www.w3.org/2000/svg\" height=\"24px\"viewBox=\"0 0 24 24\"\n",
              "     width=\"24px\">\n",
              "    <g>\n",
              "        <path d=\"M19 3H5c-1.1 0-2 .9-2 2v14c0 1.1.9 2 2 2h14c1.1 0 2-.9 2-2V5c0-1.1-.9-2-2-2zM9 17H7v-7h2v7zm4 0h-2V7h2v10zm4 0h-2v-4h2v4z\"/>\n",
              "    </g>\n",
              "</svg>\n",
              "  </button>\n",
              "\n",
              "<style>\n",
              "  .colab-df-quickchart {\n",
              "      --bg-color: #E8F0FE;\n",
              "      --fill-color: #1967D2;\n",
              "      --hover-bg-color: #E2EBFA;\n",
              "      --hover-fill-color: #174EA6;\n",
              "      --disabled-fill-color: #AAA;\n",
              "      --disabled-bg-color: #DDD;\n",
              "  }\n",
              "\n",
              "  [theme=dark] .colab-df-quickchart {\n",
              "      --bg-color: #3B4455;\n",
              "      --fill-color: #D2E3FC;\n",
              "      --hover-bg-color: #434B5C;\n",
              "      --hover-fill-color: #FFFFFF;\n",
              "      --disabled-bg-color: #3B4455;\n",
              "      --disabled-fill-color: #666;\n",
              "  }\n",
              "\n",
              "  .colab-df-quickchart {\n",
              "    background-color: var(--bg-color);\n",
              "    border: none;\n",
              "    border-radius: 50%;\n",
              "    cursor: pointer;\n",
              "    display: none;\n",
              "    fill: var(--fill-color);\n",
              "    height: 32px;\n",
              "    padding: 0;\n",
              "    width: 32px;\n",
              "  }\n",
              "\n",
              "  .colab-df-quickchart:hover {\n",
              "    background-color: var(--hover-bg-color);\n",
              "    box-shadow: 0 1px 2px rgba(60, 64, 67, 0.3), 0 1px 3px 1px rgba(60, 64, 67, 0.15);\n",
              "    fill: var(--button-hover-fill-color);\n",
              "  }\n",
              "\n",
              "  .colab-df-quickchart-complete:disabled,\n",
              "  .colab-df-quickchart-complete:disabled:hover {\n",
              "    background-color: var(--disabled-bg-color);\n",
              "    fill: var(--disabled-fill-color);\n",
              "    box-shadow: none;\n",
              "  }\n",
              "\n",
              "  .colab-df-spinner {\n",
              "    border: 2px solid var(--fill-color);\n",
              "    border-color: transparent;\n",
              "    border-bottom-color: var(--fill-color);\n",
              "    animation:\n",
              "      spin 1s steps(1) infinite;\n",
              "  }\n",
              "\n",
              "  @keyframes spin {\n",
              "    0% {\n",
              "      border-color: transparent;\n",
              "      border-bottom-color: var(--fill-color);\n",
              "      border-left-color: var(--fill-color);\n",
              "    }\n",
              "    20% {\n",
              "      border-color: transparent;\n",
              "      border-left-color: var(--fill-color);\n",
              "      border-top-color: var(--fill-color);\n",
              "    }\n",
              "    30% {\n",
              "      border-color: transparent;\n",
              "      border-left-color: var(--fill-color);\n",
              "      border-top-color: var(--fill-color);\n",
              "      border-right-color: var(--fill-color);\n",
              "    }\n",
              "    40% {\n",
              "      border-color: transparent;\n",
              "      border-right-color: var(--fill-color);\n",
              "      border-top-color: var(--fill-color);\n",
              "    }\n",
              "    60% {\n",
              "      border-color: transparent;\n",
              "      border-right-color: var(--fill-color);\n",
              "    }\n",
              "    80% {\n",
              "      border-color: transparent;\n",
              "      border-right-color: var(--fill-color);\n",
              "      border-bottom-color: var(--fill-color);\n",
              "    }\n",
              "    90% {\n",
              "      border-color: transparent;\n",
              "      border-bottom-color: var(--fill-color);\n",
              "    }\n",
              "  }\n",
              "</style>\n",
              "\n",
              "  <script>\n",
              "    async function quickchart(key) {\n",
              "      const quickchartButtonEl =\n",
              "        document.querySelector('#' + key + ' button');\n",
              "      quickchartButtonEl.disabled = true;  // To prevent multiple clicks.\n",
              "      quickchartButtonEl.classList.add('colab-df-spinner');\n",
              "      try {\n",
              "        const charts = await google.colab.kernel.invokeFunction(\n",
              "            'suggestCharts', [key], {});\n",
              "      } catch (error) {\n",
              "        console.error('Error during call to suggestCharts:', error);\n",
              "      }\n",
              "      quickchartButtonEl.classList.remove('colab-df-spinner');\n",
              "      quickchartButtonEl.classList.add('colab-df-quickchart-complete');\n",
              "    }\n",
              "    (() => {\n",
              "      let quickchartButtonEl =\n",
              "        document.querySelector('#df-617fcded-c61e-442b-8556-b8a51619aef5 button');\n",
              "      quickchartButtonEl.style.display =\n",
              "        google.colab.kernel.accessAllowed ? 'block' : 'none';\n",
              "    })();\n",
              "  </script>\n",
              "</div>\n",
              "    </div>\n",
              "  </div>\n"
            ],
            "application/vnd.google.colaboratory.intrinsic+json": {
              "type": "dataframe",
              "variable_name": "x",
              "summary": "{\n  \"name\": \"x\",\n  \"rows\": 386,\n  \"fields\": [\n    {\n      \"column\": \"0.07184119218267622\",\n      \"properties\": {\n        \"dtype\": \"number\",\n        \"std\": 1.0078637477462935,\n        \"min\": -2.721942272258224,\n        \"max\": 3.077356600020138,\n        \"num_unique_values\": 386,\n        \"samples\": [\n          2.245851892848774,\n          0.330777427485654,\n          0.5268741642559932\n        ],\n        \"semantic_type\": \"\",\n        \"description\": \"\"\n      }\n    },\n    {\n      \"column\": \"0.8553524138064769\",\n      \"properties\": {\n        \"dtype\": \"number\",\n        \"std\": 1.0086308722660897,\n        \"min\": -3.5265869249292883,\n        \"max\": 2.779462964831365,\n        \"num_unique_values\": 386,\n        \"samples\": [\n          -0.512608789886783,\n          0.5719693944976249,\n          2.779462964831365\n        ],\n        \"semantic_type\": \"\",\n        \"description\": \"\"\n      }\n    },\n    {\n      \"column\": \"-0.3055966142959303\",\n      \"properties\": {\n        \"dtype\": \"number\",\n        \"std\": 1.014805378552171,\n        \"min\": -2.952846532188352,\n        \"max\": 2.959742264680178,\n        \"num_unique_values\": 386,\n        \"samples\": [\n          -0.5111086858305861,\n          -0.4302880808850298,\n          0.7362238705469\n        ],\n        \"semantic_type\": \"\",\n        \"description\": \"\"\n      }\n    },\n    {\n      \"column\": \"0.028252569993086545\",\n      \"properties\": {\n        \"dtype\": \"number\",\n        \"std\": 0.9977887671369704,\n        \"min\": -3.46813415676292,\n        \"max\": 2.943177916269174,\n        \"num_unique_values\": 386,\n        \"samples\": [\n          0.2040135338277794,\n          1.0302332851298188,\n          -0.9005021207027425\n        ],\n        \"semantic_type\": \"\",\n        \"description\": \"\"\n      }\n    },\n    {\n      \"column\": \"1.8268953710701943\",\n      \"properties\": {\n        \"dtype\": \"number\",\n        \"std\": 0.9619937331983308,\n        \"min\": -2.3761027155985013,\n        \"max\": 3.62697412199265,\n        \"num_unique_values\": 386,\n        \"samples\": [\n          -1.242143937603492,\n          0.5557725418596285,\n          -0.0541193503918969\n        ],\n        \"semantic_type\": \"\",\n        \"description\": \"\"\n      }\n    }\n  ]\n}"
            }
          },
          "metadata": {},
          "execution_count": 37
        }
      ]
    },
    {
      "cell_type": "markdown",
      "source": [
        "Первая строка с данными pandas воспринял как заголовок. Исправим"
      ],
      "metadata": {
        "id": "-OF4frO4Qquy"
      }
    },
    {
      "cell_type": "code",
      "source": [
        "x = pd.read_csv(\"https://github.com/koroteevmv/ML_course/raw/main/ML1.2%20multivariate/data/0_x.csv\",\n",
        "                header=None)\n",
        "y = pd.read_csv(\"https://github.com/koroteevmv/ML_course/raw/main/ML1.2%20multivariate/data/0_y.csv\",\n",
        "                header=None)\n",
        "x.shape, y.shape"
      ],
      "metadata": {
        "colab": {
          "base_uri": "https://localhost:8080/"
        },
        "id": "vjS0ke9QQxmo",
        "outputId": "82169216-3bac-4849-897d-aea4139dc58a"
      },
      "execution_count": null,
      "outputs": [
        {
          "output_type": "execute_result",
          "data": {
            "text/plain": [
              "((387, 5), (387, 1))"
            ]
          },
          "metadata": {},
          "execution_count": 38
        }
      ]
    },
    {
      "cell_type": "markdown",
      "source": [
        "Что можем заметить:\n",
        "\n",
        "*   У нас представлено 387 объектов\n",
        "*   У каждого объекта представлено 5 иксов (атрибутов/признаков) и 1 игрик (целевая переменная)\n",
        "\n",
        "Создадим объект модели линейной регрессии из библиотеки sklearn\n"
      ],
      "metadata": {
        "id": "NIWSmIXaQ8NK"
      }
    },
    {
      "cell_type": "code",
      "source": [
        "from sklearn.linear_model import LinearRegression\n",
        "binary = LinearRegression()"
      ],
      "metadata": {
        "id": "jr1_djC1RbGd"
      },
      "execution_count": null,
      "outputs": []
    },
    {
      "cell_type": "markdown",
      "source": [
        "Для начала мы построим модель парной регрессии от одного из признаков в датасете. Для этого из матрицы атрибутов нужно вытащить один столбец.\n",
        "\n",
        "Можно сделать это так: `x[1]`, но таким образом мы получим Series - одномерный массив. Библиотечные средства предполагают, что X - это двумерный массив.\n",
        "\n",
        "Превратить его в двумерный можно многими разными способами, но в Pandas можно взять несколько столбцов из датафрейма. Такая операция вернет всегда именно датафрейм. А нам нужен датафрейм из одного столбца. Сделать это можно так: `x[[1]]`.\n",
        "\n",
        "Итак, возьмем один столбец и обучим парную регрессию его с целевой переменной"
      ],
      "metadata": {
        "id": "jd4Ul6e3RhPT"
      }
    },
    {
      "cell_type": "code",
      "source": [
        "binary.fit(x[[1]], y)\n",
        "\n",
        "binary.coef_"
      ],
      "metadata": {
        "colab": {
          "base_uri": "https://localhost:8080/"
        },
        "id": "rGAoDipcRgqS",
        "outputId": "e038e15b-2cb9-4afd-816e-3d83b7cf7874"
      },
      "execution_count": null,
      "outputs": [
        {
          "output_type": "execute_result",
          "data": {
            "text/plain": [
              "array([[95.52010745]])"
            ]
          },
          "metadata": {},
          "execution_count": 40
        }
      ]
    },
    {
      "cell_type": "code",
      "source": [
        "binary.intercept_"
      ],
      "metadata": {
        "colab": {
          "base_uri": "https://localhost:8080/"
        },
        "id": "PtqwJY8ASSDE",
        "outputId": "efe4d0cf-9ac7-450f-c225-13fa4541522d"
      },
      "execution_count": null,
      "outputs": [
        {
          "output_type": "execute_result",
          "data": {
            "text/plain": [
              "array([0.00332092])"
            ]
          },
          "metadata": {},
          "execution_count": 41
        }
      ]
    },
    {
      "cell_type": "markdown",
      "source": [
        "По умолчанию коэффициенты при аргументах находятся в поле coef\\_. Свободный член (bias/отклонение) находится в поле intercept\\_.\n",
        "\n",
        "Метод predict() рассчитывает теоретические значения признака. Выведем первые 5"
      ],
      "metadata": {
        "id": "1pzqsPWjSWCX"
      }
    },
    {
      "cell_type": "code",
      "source": [
        "binary.predict(x[[1]])[:5]"
      ],
      "metadata": {
        "colab": {
          "base_uri": "https://localhost:8080/"
        },
        "id": "BtFwKWsfSs6H",
        "outputId": "dfdcb2ac-1bd5-496d-f718-0dacc0106eec"
      },
      "execution_count": null,
      "outputs": [
        {
          "output_type": "execute_result",
          "data": {
            "text/plain": [
              "array([[ 81.7066754 ],\n",
              "       [-40.45008468],\n",
              "       [-24.60472955],\n",
              "       [-78.92903986],\n",
              "       [-82.26167214]])"
            ]
          },
          "metadata": {},
          "execution_count": 42
        }
      ]
    },
    {
      "cell_type": "markdown",
      "source": [
        "Построим график. Точки построим так:"
      ],
      "metadata": {
        "id": "G86rvCvxS6G_"
      }
    },
    {
      "cell_type": "code",
      "source": [
        "plt.scatter(x[1], y) # Построение точек\n",
        "\n",
        "\"\"\"\n",
        "linspace создаёт равномерное распределение\n",
        "\n",
        "В нашем случае мы равномерно распределяем 100 точек от минимального до\n",
        "максимального по X\n",
        "\n",
        "Уже по этим точкам рассчитаем модельные значения\n",
        "\"\"\"\n",
        "xx = np.linspace(x[1].min(), x[1].max(), 100).reshape((-1, 1))\n",
        "\"\"\"\n",
        "xx.shape до reshape - (100,) - одномерный массив из 100 элементов\n",
        "xx.reshape((-1, 1)).shape - (100, 1) - двумерный массив из 1 столбца и 100 строк\n",
        "\"\"\"\n",
        "plt.plot(xx, binary.predict(xx), c='r')"
      ],
      "metadata": {
        "colab": {
          "base_uri": "https://localhost:8080/",
          "height": 447
        },
        "id": "UwOy53P3TGiM",
        "outputId": "d2a4b51b-d619-47de-c72e-77fb2dac9cd3"
      },
      "execution_count": null,
      "outputs": [
        {
          "output_type": "execute_result",
          "data": {
            "text/plain": [
              "[<matplotlib.lines.Line2D at 0x7901ca316d90>]"
            ]
          },
          "metadata": {},
          "execution_count": 43
        },
        {
          "output_type": "display_data",
          "data": {
            "text/plain": [
              "<Figure size 640x480 with 1 Axes>"
            ],
            "image/png": "[encoded data removed]"
          },
          "metadata": {}
        }
      ]
    },
    {
      "cell_type": "markdown",
      "source": [
        "Посмотрим на коэффициент детерминации (R2-score) модели"
      ],
      "metadata": {
        "id": "YcZWMl2ZVzkD"
      }
    },
    {
      "cell_type": "code",
      "source": [
        "binary.score(x[[1]], y)"
      ],
      "metadata": {
        "colab": {
          "base_uri": "https://localhost:8080/"
        },
        "id": "iQt1YNSBVit3",
        "outputId": "b62f428a-6942-46db-a531-159f11ea4b39"
      },
      "execution_count": null,
      "outputs": [
        {
          "output_type": "execute_result",
          "data": {
            "text/plain": [
              "0.7699743283650629"
            ]
          },
          "metadata": {},
          "execution_count": 44
        }
      ]
    },
    {
      "cell_type": "markdown",
      "source": [
        "Для построения множественной регрессии выполним те же шаги, но будем использовать полный датасет"
      ],
      "metadata": {
        "id": "d6J2V1_QWGF8"
      }
    },
    {
      "cell_type": "code",
      "source": [
        "multiple = LinearRegression()\n",
        "multiple.fit(x, y)\n",
        "multiple.score(x, y)"
      ],
      "metadata": {
        "colab": {
          "base_uri": "https://localhost:8080/"
        },
        "id": "XX1QvZFIWHIr",
        "outputId": "126cff2d-05de-4302-eedd-530d076eb0c2"
      },
      "execution_count": null,
      "outputs": [
        {
          "output_type": "execute_result",
          "data": {
            "text/plain": [
              "0.9922198026415868"
            ]
          },
          "metadata": {},
          "execution_count": 45
        }
      ]
    },
    {
      "cell_type": "markdown",
      "source": [
        " scatter:\n",
        " Каждая точка на графике представляет одну строку (один пример) из данных.\n",
        "\n",
        "Положение точки:\n",
        "   * По оси X (горизонтальной) откладывается предсказанное значение (yy).\n",
        "   * По оси Y (вертикальной) откладывается фактическое значение (y).\n",
        "\n",
        "Если модель предсказывает идеально, то все точки лягут точно на прямую линию, где предсказанное значение равно фактическому (то есть, на линию y = x).\n",
        "\n",
        "Линия plot: Линия идеальных предсказаний\n",
        "\n",
        "Эта линия - линия идеальных предсказаний. Она используется как ориентир для оценки диаграммы рассеяния. Она показывает, где должны были бы находиться точки, если бы предсказанные значения совпадали с фактическими."
      ],
      "metadata": {
        "id": "O5wEqVL2WPhA"
      }
    },
    {
      "cell_type": "code",
      "source": [
        "yy = multiple.predict(x)\n",
        "plt.scatter(yy, y)\n",
        "plt.plot(yy, yy, c='r')"
      ],
      "metadata": {
        "colab": {
          "base_uri": "https://localhost:8080/",
          "height": 448
        },
        "id": "doMPmPpbWUSQ",
        "outputId": "449f311f-aec8-427e-d5e7-e8ea48d3ced1"
      },
      "execution_count": null,
      "outputs": [
        {
          "output_type": "execute_result",
          "data": {
            "text/plain": [
              "[<matplotlib.lines.Line2D at 0x7901c9fcd510>]"
            ]
          },
          "metadata": {},
          "execution_count": 46
        },
        {
          "output_type": "display_data",
          "data": {
            "text/plain": [
              "<Figure size 640x480 with 1 Axes>"
            ],
            "image/png": "[encoded data removed]"
          },
          "metadata": {}
        }
      ]
    },
    {
      "cell_type": "markdown",
      "source": [
        "### Задания для самостоятельного выполнения"
      ],
      "metadata": {
        "id": "Om9AwBivaDxc"
      }
    },
    {
      "cell_type": "markdown",
      "source": [
        "#### Задание 1\n",
        "\n",
        "Самостоятельно постройте парные регрессии от каждого атрибута с целевой переменной."
      ],
      "metadata": {
        "id": "J6owtoWkaElS"
      }
    },
    {
      "cell_type": "code",
      "source": [
        "# x.shape - (387, 5) - 387 строк, 5 столбцов\n",
        "\n",
        "for i in range(x.shape[1]):\n",
        "  binary = LinearRegression().fit(x[[i]], y)\n",
        "  print(binary.score(x[[i]], y))"
      ],
      "metadata": {
        "colab": {
          "base_uri": "https://localhost:8080/"
        },
        "id": "gL9F7VdTaJfc",
        "outputId": "54cd7222-443f-4968-baeb-c4c606f72b41"
      },
      "execution_count": null,
      "outputs": [
        {
          "output_type": "stream",
          "name": "stdout",
          "text": [
            "0.04364336234689348\n",
            "0.7699743283650629\n",
            "0.18794528514998887\n",
            "0.047470345664983093\n",
            "0.00017176151145947838\n"
          ]
        }
      ]
    },
    {
      "cell_type": "markdown",
      "source": [
        "Построили парные регрессии от каждого атрибута. Также дополнительно вывели коэффициент детерминации для каждой модели"
      ],
      "metadata": {
        "id": "9EAclRVycRgn"
      }
    },
    {
      "cell_type": "markdown",
      "source": [
        "#### Задание 2\n",
        "Модифицируйте код из предыдущей работы так, чтобы модель регрессии умела работать с входными данными, состоящими из произвольного количества столбцов.\n"
      ],
      "metadata": {
        "id": "hwiq4NHCaUp_"
      }
    },
    {
      "cell_type": "code",
      "source": [
        "\"\"\"Модель парной линейной регрессии\"\"\"\n",
        "class Model(object):\n",
        "    def __init__(self, b0 = 0, b1 = 0):\n",
        "        self.b0 = b0\n",
        "        self.b1 = b1\n",
        "\n",
        "    def getSeries(self, data, column: int):\n",
        "      return data[column] if isinstance(data, pd.DataFrame) else data\n",
        "\n",
        "    def predict(self, X, column=0):\n",
        "        X = self.getSeries(X, column)\n",
        "        return self.b0 + self.b1 * X\n",
        "\n",
        "    def error(self, X, Y, column=0):\n",
        "        X = self.getSeries(X, column)\n",
        "        Y = self.getSeries(Y, 0)\n",
        "        return sum(((self.predict(X) - Y)**2) / (2 * len(X)))\n",
        "\n",
        "    def fit(self, X, Y, column=0, alpha=1, max_steps=5000):\n",
        "        X = self.getSeries(X, column)\n",
        "        Y = self.getSeries(Y, 0)\n",
        "        steps, errors = [1], [self.error(X, Y)]\n",
        "        for step in range(2, max_steps):\n",
        "            old_b0 = self.b0\n",
        "            old_b1 = self.b1\n",
        "            dJ0 = sum(self.predict(X) - Y) / len(X)\n",
        "            dJ1 = sum((self.predict(X) - Y) * X) / len(X)\n",
        "            self.b0 -= alpha * dJ0\n",
        "            self.b1 -= alpha * dJ1\n",
        "\n",
        "            new_err = self.error(X, Y)\n",
        "            old_err = errors[-1]\n",
        "\n",
        "            steps.append(step + 1)\n",
        "            errors.append(new_err)\n",
        "\n",
        "            if old_err < new_err:\n",
        "              alpha /= 2\n",
        "              self.b0 = old_b0\n",
        "              self.b1 = old_b1\n",
        "\n",
        "            if new_err < 0.000001:\n",
        "              break\n",
        "        return steps, errors\n",
        "\n",
        "    def plot(self, X, Y):\n",
        "        X = self.getSeries(X)\n",
        "        Y = self.getSeries(Y)\n",
        "\n",
        "        x_min, x_max = X.min(), X.max()\n",
        "        x_range = x_max - x_min\n",
        "        X_plot = np.linspace(x_min - 0.1 * x_range, x_max + 0.1 * x_range, 100)\n",
        "        Y_plot = self.predict(X_plot)\n",
        "\n",
        "        plt.figure()\n",
        "        plt.scatter(X, Y, label=\"Данные\")\n",
        "        plt.plot(X_plot, Y_plot, color='red', label=\"Линия регрессии\")\n",
        "\n",
        "        plt.show()\n",
        "\n",
        "    def error_plot(self, steps, errors):\n",
        "      plt.figure()\n",
        "      plt.plot(steps, errors, 'g')\n",
        "      plt.show()"
      ],
      "metadata": {
        "id": "0UuhdLe5bB5q"
      },
      "execution_count": null,
      "outputs": []
    },
    {
      "cell_type": "markdown",
      "source": [
        "Обучим на 4-ом столбце\n"
      ],
      "metadata": {
        "id": "m2nYy_FYeOb5"
      }
    },
    {
      "cell_type": "code",
      "source": [
        "binary3 = Model()\n",
        "steps, errors = binary3.fit(x, y, column=3)\n",
        "binary3.error_plot(steps, errors)"
      ],
      "metadata": {
        "colab": {
          "base_uri": "https://localhost:8080/",
          "height": 430
        },
        "id": "PqAVgSogdZXl",
        "outputId": "7c57e2a2-bc2b-4ba7-bbfc-064d89937bcd"
      },
      "execution_count": null,
      "outputs": [
        {
          "output_type": "display_data",
          "data": {
            "text/plain": [
              "<Figure size 640x480 with 1 Axes>"
            ],
            "image/png": "[encoded data removed]"
          },
          "metadata": {}
        }
      ]
    },
    {
      "cell_type": "markdown",
      "source": [
        "Видно, что выполнились все 5000 итераций обучения, но ошибка, всё ещё очень высока"
      ],
      "metadata": {
        "id": "rBa358qFeH58"
      }
    },
    {
      "cell_type": "markdown",
      "source": [
        "#### Задание 3 и Задание 4\n",
        "Для целевой переменной и каждого из признаков постройте полиномиальную регрессию второго, третьего и десятого порядков. Сделайте вывод о значимости регрессии.\n",
        "\n",
        "Постройте сводную таблицу показателей точности всех построенных моделей. Сделайте вывод, какие модели переобученнные, какие - недообученные."
      ],
      "metadata": {
        "id": "DZkDv5DjaUkm"
      }
    },
    {
      "cell_type": "code",
      "source": [
        "from sklearn.model_selection import train_test_split\n",
        "from sklearn.preprocessing import PolynomialFeatures"
      ],
      "metadata": {
        "id": "NM7qX_bxhwOK"
      },
      "execution_count": null,
      "outputs": []
    },
    {
      "cell_type": "code",
      "source": [
        "def polynomial_regression(x: pd.Series, y: pd.Series, degree: int):\n",
        "  poly = PolynomialFeatures(degree=degree)\n",
        "  x_poly = poly.fit_transform(x.values.reshape(-1, 1))\n",
        "  # Преобразовали признак к полиному\n",
        "  \"\"\"\n",
        "  x_poly.shape = (387, 3) для полинома 2ой степени\n",
        "  x_poly.shape = (387, 4) для полинома 3ей степени\n",
        "  x_poly.shape = (387, 11) для полинома 10ой степени\n",
        "  \"\"\"\n",
        "\n",
        "  x_train, x_test, y_train, y_test = train_test_split(\n",
        "      x_poly, y, test_size=0.2, random_state=42)\n",
        "\n",
        "  model = LinearRegression()\n",
        "  model.fit(x_train, y_train)\n",
        "\n",
        "  y_pred = model.predict(x_test)\n",
        "  print(f\"Коэффициент детерминации для полинома степени {degree}: {model.score(x_test, y_test)}\")"
      ],
      "metadata": {
        "id": "10habr4ubCN9"
      },
      "execution_count": null,
      "outputs": []
    },
    {
      "cell_type": "code",
      "source": [
        "degrees = [2, 3, 10]  # Степени полинома\n",
        "\n",
        "for feature in x.columns:\n",
        "    print(f\"\\nПризнак: {feature}\")\n",
        "    for degree in degrees:\n",
        "        polynomial_regression(x[feature], y, degree)"
      ],
      "metadata": {
        "colab": {
          "base_uri": "https://localhost:8080/"
        },
        "id": "x7UuLchmh-Ji",
        "outputId": "81357343-52ec-404c-8699-2b13bf2ec69f"
      },
      "execution_count": null,
      "outputs": [
        {
          "output_type": "stream",
          "name": "stdout",
          "text": [
            "\n",
            "Признак: 0\n",
            "Коэффициент детерминации для полинома степени 2: 0.051623086517020855\n",
            "Коэффициент детерминации для полинома степени 3: 0.051228704082298404\n",
            "Коэффициент детерминации для полинома степени 10: 0.02148510191093911\n",
            "\n",
            "Признак: 1\n",
            "Коэффициент детерминации для полинома степени 2: 0.8478585449005506\n",
            "Коэффициент детерминации для полинома степени 3: 0.8512891098751143\n",
            "Коэффициент детерминации для полинома степени 10: -19.94666715745276\n",
            "\n",
            "Признак: 2\n",
            "Коэффициент детерминации для полинома степени 2: 0.10712158491159596\n",
            "Коэффициент детерминации для полинома степени 3: 0.103903034654249\n",
            "Коэффициент детерминации для полинома степени 10: 0.09907931479748178\n",
            "\n",
            "Признак: 3\n",
            "Коэффициент детерминации для полинома степени 2: 0.03998287810897716\n",
            "Коэффициент детерминации для полинома степени 3: 0.03844295485308635\n",
            "Коэффициент детерминации для полинома степени 10: 0.0057758266328507\n",
            "\n",
            "Признак: 4\n",
            "Коэффициент детерминации для полинома степени 2: -0.0027233368087238308\n",
            "Коэффициент детерминации для полинома степени 3: -0.00777602876016581\n",
            "Коэффициент детерминации для полинома степени 10: -0.049160264776598295\n"
          ]
        }
      ]
    },
    {
      "cell_type": "markdown",
      "source": [
        "R^2 = 0 означает, что модель объясняет столько же дисперсии, сколько и простое предсказание среднего значения y.\n",
        "\n",
        "Есть отрицательный R^2 - модель предсказывает хуже, чем если бы мы просто всегда предсказывали среднее значение y для всех точек. Это признак переобучения"
      ],
      "metadata": {
        "id": "k7CnxrXDkuUl"
      }
    },
    {
      "cell_type": "markdown",
      "source": [
        "#### Задание 5\n",
        "Используйте другие метрики качества регрессионной модели в дополнение к коэффициенту детерминации.\n"
      ],
      "metadata": {
        "id": "ZRTBuITzaUYm"
      }
    },
    {
      "cell_type": "markdown",
      "source": [
        "Модифицируем функцию. Добавим:\n",
        "\n",
        "Среднюю абсолютную ошибку (Mean Absolute Error) - показывает среднюю величину ошибки в исходных единицах измерения.\n",
        "\n"
      ],
      "metadata": {
        "id": "HqjpRukhE8Tq"
      }
    },
    {
      "cell_type": "markdown",
      "source": [
        "![image.png](data:image/png;base64,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)"
      ],
      "metadata": {
        "id": "6TfbumZbFT4y"
      }
    },
    {
      "cell_type": "markdown",
      "source": [
        "Медианную абсолютную ошибку (Median Absolute Error) - подходит, когда в данных много выбросов. Похоже на MAE"
      ],
      "metadata": {
        "id": "0PmeV9cwFu_1"
      }
    },
    {
      "cell_type": "markdown",
      "source": [
        "![image.png](data:image/png;base64,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)"
      ],
      "metadata": {
        "id": "y61lyvEHFr12"
      }
    },
    {
      "cell_type": "code",
      "source": [
        "from sklearn.metrics import mean_absolute_error, median_absolute_error"
      ],
      "metadata": {
        "id": "XzwSutmkGMgW"
      },
      "execution_count": null,
      "outputs": []
    },
    {
      "cell_type": "code",
      "source": [
        "def polynomial_regression(x: pd.Series, y: pd.Series, degree: int):\n",
        "  poly = PolynomialFeatures(degree=degree)\n",
        "  x_poly = poly.fit_transform(x.values.reshape(-1, 1))\n",
        "\n",
        "  x_train, x_test, y_train, y_test = train_test_split(\n",
        "      x_poly, y, test_size=0.2, random_state=42)\n",
        "\n",
        "  model = LinearRegression()\n",
        "  model.fit(x_train, y_train)\n",
        "\n",
        "  y_pred = model.predict(x_test)\n",
        "\n",
        "  r2 = model.score(x_test, y_test)\n",
        "  mae = mean_absolute_error(y_test, y_pred)\n",
        "  medae = median_absolute_error(y_test, y_pred)\n",
        "\n",
        "  print(f\"Полином степени {degree}\")\n",
        "  print(f\"Коэффициент детерминации: {r2}\")\n",
        "  print(f\"MAE: {mae}\")\n",
        "  print(f\"Med AE: {medae}\")"
      ],
      "metadata": {
        "id": "kW6zV-EYbCyo"
      },
      "execution_count": null,
      "outputs": []
    },
    {
      "cell_type": "code",
      "source": [
        "degrees = [2, 3, 10]  # Степени полинома\n",
        "\n",
        "for feature in x.columns:\n",
        "    print(f\"\\nПризнак: {feature}\")\n",
        "    for degree in degrees:\n",
        "        polynomial_regression(x[feature], y, degree)"
      ],
      "metadata": {
        "colab": {
          "base_uri": "https://localhost:8080/"
        },
        "id": "VeBJvW5dE72E",
        "outputId": "9b0bf834-975f-4486-d5d2-f180abe882e7"
      },
      "execution_count": null,
      "outputs": [
        {
          "output_type": "stream",
          "name": "stdout",
          "text": [
            "\n",
            "Признак: 0\n",
            "Полином степени 2\n",
            "Коэффициент детерминации: 0.051623086517020855\n",
            "MAE: 97.07330898010585\n",
            "Med AE: 77.1678310277618\n",
            "Полином степени 3\n",
            "Коэффициент детерминации: 0.051228704082298404\n",
            "MAE: 97.12582886176865\n",
            "Med AE: 76.84245926826752\n",
            "Полином степени 10\n",
            "Коэффициент детерминации: 0.02148510191093911\n",
            "MAE: 98.8442931857765\n",
            "Med AE: 76.16697262217214\n",
            "\n",
            "Признак: 1\n",
            "Полином степени 2\n",
            "Коэффициент детерминации: 0.8478585449005506\n",
            "MAE: 38.34747222703687\n",
            "Med AE: 27.295782478959197\n",
            "Полином степени 3\n",
            "Коэффициент детерминации: 0.8512891098751143\n",
            "MAE: 38.09866490931933\n",
            "Med AE: 28.746800745141257\n",
            "Полином степени 10\n",
            "Коэффициент детерминации: -19.94666715745276\n",
            "MAE: 104.73412195603211\n",
            "Med AE: 34.91098936267309\n",
            "\n",
            "Признак: 2\n",
            "Полином степени 2\n",
            "Коэффициент детерминации: 0.10712158491159596\n",
            "MAE: 95.36250601895922\n",
            "Med AE: 77.07201079688915\n",
            "Полином степени 3\n",
            "Коэффициент детерминации: 0.103903034654249\n",
            "MAE: 95.57804858707502\n",
            "Med AE: 76.691956542063\n",
            "Полином степени 10\n",
            "Коэффициент детерминации: 0.09907931479748178\n",
            "MAE: 95.56899945859371\n",
            "Med AE: 80.67434204285513\n",
            "\n",
            "Признак: 3\n",
            "Полином степени 2\n",
            "Коэффициент детерминации: 0.03998287810897716\n",
            "MAE: 96.71483258694815\n",
            "Med AE: 74.78741424263356\n",
            "Полином степени 3\n",
            "Коэффициент детерминации: 0.03844295485308635\n",
            "MAE: 97.00376874775567\n",
            "Med AE: 74.13221926130949\n",
            "Полином степени 10\n",
            "Коэффициент детерминации: 0.0057758266328507\n",
            "MAE: 98.83162016261323\n",
            "Med AE: 77.11785699104098\n",
            "\n",
            "Признак: 4\n",
            "Полином степени 2\n",
            "Коэффициент детерминации: -0.0027233368087238308\n",
            "MAE: 99.52729847584273\n",
            "Med AE: 84.64964390509726\n",
            "Полином степени 3\n",
            "Коэффициент детерминации: -0.00777602876016581\n",
            "MAE: 100.00005820823797\n",
            "Med AE: 84.30830626776111\n",
            "Полином степени 10\n",
            "Коэффициент детерминации: -0.049160264776598295\n",
            "MAE: 101.80151381032601\n",
            "Med AE: 89.59112858884697\n"
          ]
        }
      ]
    },
    {
      "cell_type": "markdown",
      "source": [
        "#### Задание 6\n",
        "Замерьте время обучения полиномиальных моделей с разной степенью полинома. Сделайте вывод."
      ],
      "metadata": {
        "id": "BxrD31wSaT25"
      }
    },
    {
      "cell_type": "markdown",
      "source": [
        "Замерим время только для `x[0]`"
      ],
      "metadata": {
        "id": "9LnWXvAUHRHY"
      }
    },
    {
      "cell_type": "code",
      "source": [
        "import time"
      ],
      "metadata": {
        "id": "-Rf13pQkbDJ1"
      },
      "execution_count": null,
      "outputs": []
    },
    {
      "cell_type": "code",
      "source": [
        "def polynomial_regression(x: pd.Series, y: pd.Series, degree: int):\n",
        "  poly = PolynomialFeatures(degree=degree)\n",
        "  x_poly = poly.fit_transform(x.values.reshape(-1, 1))\n",
        "\n",
        "  x_train, x_test, y_train, y_test = train_test_split(\n",
        "      x_poly, y, test_size=0.2, random_state=42)\n",
        "\n",
        "  model = LinearRegression()\n",
        "  start_time = time.time()\n",
        "\n",
        "  model.fit(x_train, y_train)\n",
        "\n",
        "  end_time = time.time()\n",
        "  elapsed_time = end_time - start_time\n",
        "  print(f\"\\nПолином степени {degree} обрабатывался {elapsed_time:.5f} секунд\\n\")\n",
        "\n",
        "  y_pred = model.predict(x_test)\n",
        "\n",
        "  r2 = model.score(x_test, y_test)\n",
        "  mae = mean_absolute_error(y_test, y_pred)\n",
        "  medae = median_absolute_error(y_test, y_pred)\n",
        "\n",
        "  print(f\"Полином степени {degree}\")\n",
        "  print(f\"Коэффициент детерминации: {r2}\")\n",
        "  print(f\"MAE: {mae}\")\n",
        "  print(f\"Med AE: {medae}\")"
      ],
      "metadata": {
        "id": "wV8yxH4OIcgY"
      },
      "execution_count": null,
      "outputs": []
    },
    {
      "cell_type": "code",
      "source": [
        "degrees = [2, 3, 10, 500]\n",
        "\n",
        "for degree in degrees:\n",
        "    polynomial_regression(x[0], y, degree)"
      ],
      "metadata": {
        "colab": {
          "base_uri": "https://localhost:8080/"
        },
        "id": "Dd1oDjbFHEhv",
        "outputId": "62fe2eb6-e1fd-4cd6-bccf-db07373924a2"
      },
      "execution_count": null,
      "outputs": [
        {
          "output_type": "stream",
          "name": "stdout",
          "text": [
            "\n",
            "Полином степени 2 обрабатывался 0.00207 секунд\n",
            "\n",
            "Полином степени 2\n",
            "Коэффициент детерминации: 0.051623086517020855\n",
            "MAE: 97.07330898010585\n",
            "Med AE: 77.1678310277618\n",
            "\n",
            "Полином степени 3 обрабатывался 0.00145 секунд\n",
            "\n",
            "Полином степени 3\n",
            "Коэффициент детерминации: 0.051228704082298404\n",
            "MAE: 97.12582886176865\n",
            "Med AE: 76.84245926826752\n",
            "\n",
            "Полином степени 10 обрабатывался 0.00166 секунд\n",
            "\n",
            "Полином степени 10\n",
            "Коэффициент детерминации: 0.02148510191093911\n",
            "MAE: 98.8442931857765\n",
            "Med AE: 76.16697262217214\n",
            "\n",
            "Полином степени 500 обрабатывался 0.01972 секунд\n",
            "\n",
            "Полином степени 500\n",
            "Коэффициент детерминации: -3.158784202125195e+47\n",
            "MAE: 7.889477451487394e+24\n",
            "Med AE: 85.08226803722485\n"
          ]
        }
      ]
    },
    {
      "cell_type": "markdown",
      "source": [
        "Полином 500-ой степени обрабатывался в 11 раз дольше полинома 10-ой степени. Разница между полиномами 2-ой, 3-ей и 10-ой степени минимальна"
      ],
      "metadata": {
        "id": "8em86sA7xkAo"
      }
    }
  ]
}